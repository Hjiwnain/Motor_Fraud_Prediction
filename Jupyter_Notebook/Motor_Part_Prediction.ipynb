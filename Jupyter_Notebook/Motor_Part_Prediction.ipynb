{
  "nbformat": 4,
  "nbformat_minor": 0,
  "metadata": {
    "colab": {
      "provenance": [],
      "collapsed_sections": [
        "KSmcnLOE354d",
        "KgMFcyKk_lxj",
        "cHvgdbQIAcU8",
        "2yINl4a7EV_2",
        "5-WANrSwFCxJ",
        "7IV6rQ5vFZLS",
        "JdUca3y_FxV7",
        "SwXGxSH_GIRF",
        "nyNKn5ZXGbaU"
      ]
    },
    "kernelspec": {
      "name": "python3",
      "display_name": "Python 3"
    },
    "language_info": {
      "name": "python"
    }
  },
  "cells": [
    {
      "cell_type": "code",
      "execution_count": null,
      "metadata": {
        "id": "5d2Er59Ktlga"
      },
      "outputs": [],
      "source": [
        "import pandas as pd\n",
        "import pickle\n",
        "from sklearn.model_selection import train_test_split\n",
        "from sklearn import metrics\n",
        "from sklearn.metrics import accuracy_score\n",
        "from sklearn.ensemble import RandomForestClassifier"
      ]
    },
    {
      "cell_type": "code",
      "source": [
        "df = pd.read_csv(\"/content/Motor Claim Simulation - frauds.xlsx - Sheet1.csv\")"
      ],
      "metadata": {
        "id": "1kJics9DtnY-"
      },
      "execution_count": null,
      "outputs": []
    },
    {
      "cell_type": "code",
      "source": [
        "df = df.drop(['Motor Claims Data ','Unnamed: 1','Unnamed: 2','Unnamed: 15','Unnamed: 16','Unnamed: 17','Unnamed: 18','Unnamed: 19','Unnamed: 20','Unnamed: 21','Unnamed: 22','Unnamed: 23','Unnamed: 24','Unnamed: 25'],axis=1)"
      ],
      "metadata": {
        "id": "tgjHR73ntxfS"
      },
      "execution_count": null,
      "outputs": []
    },
    {
      "cell_type": "code",
      "source": [
        "df = df.rename(columns={'Unnamed: 3': 'OEM', 'Unnamed: 4': 'Model','Unnamed: 5': 'Original Price','Unnamed: 6': \n",
        "                       'Vehicle Age','Unnamed: 7': 'IDV','Unnamed: 8': 'Policy Dt','Unnamed: 9': 'Accident Dt','Unnamed: 10': 'Report Dt',\n",
        "                       'Unnamed: 11': 'Policy_Accident','Unnamed: 12': 'Policy_Report','Unnamed: 13': 'Accident_Report','Unnamed: 14': 'Prediction'})"
      ],
      "metadata": {
        "id": "eg6Uwcrit-YB"
      },
      "execution_count": null,
      "outputs": []
    },
    {
      "cell_type": "code",
      "source": [
        "df.columns"
      ],
      "metadata": {
        "colab": {
          "base_uri": "https://localhost:8080/"
        },
        "id": "wrC8Fb4Ctw97",
        "outputId": "c0dc37c8-2ec6-41af-e1b0-3af65a129ced"
      },
      "execution_count": null,
      "outputs": [
        {
          "output_type": "execute_result",
          "data": {
            "text/plain": [
              "Index(['OEM', 'Model', 'Original Price', 'Vehicle Age', 'IDV', 'Policy Dt',\n",
              "       'Accident Dt', 'Report Dt', 'Policy_Accident', 'Policy_Report',\n",
              "       'Accident_Report', 'Prediction'],\n",
              "      dtype='object')"
            ]
          },
          "metadata": {},
          "execution_count": 160
        }
      ]
    },
    {
      "cell_type": "code",
      "source": [
        "df.head()"
      ],
      "metadata": {
        "colab": {
          "base_uri": "https://localhost:8080/",
          "height": 357
        },
        "id": "KAOuY-L2t2AJ",
        "outputId": "040904fa-bae8-4ca7-96bb-299ab160623c"
      },
      "execution_count": null,
      "outputs": [
        {
          "output_type": "execute_result",
          "data": {
            "text/plain": [
              "     OEM  Model  Original Price  Vehicle Age        IDV  Policy Dt  \\\n",
              "0    NaN    NaN             NaN          NaN        NaN        NaN   \n",
              "1    OEM  Model  Original Price  Vehicle Age        IDV  Policy Dt   \n",
              "2   Hero     M4        100,000             3    61,413   30-Apr-22   \n",
              "3  Honda     M3         90,000             1    76,500   11-Jun-22   \n",
              "4  Honda     M2         72,000             3    44,217    4-Apr-22   \n",
              "\n",
              "   Accident Dt  Report Dt  Policy_Accident  Policy_Report  Accident_Report  \\\n",
              "0          NaN        NaN              NaN            NaN              NaN   \n",
              "1  Accident Dt  Report Dt  Policy_Accident  Policy_Report  Accident_Report   \n",
              "2     1-May-22   2-May-22                1              2                1   \n",
              "3    19-Aug-22  21-Aug-22               69             71                2   \n",
              "4    22-May-22  23-May-22               48             49                1   \n",
              "\n",
              "      Prediction  \n",
              "0          12.5%  \n",
              "1  Tampered Docs  \n",
              "2              0  \n",
              "3              0  \n",
              "4              0  "
            ],
            "text/html": [
              "\n",
              "  <div id=\"df-2bb4d6ef-cb88-433f-9e06-758618bff46c\">\n",
              "    <div class=\"colab-df-container\">\n",
              "      <div>\n",
              "<style scoped>\n",
              "    .dataframe tbody tr th:only-of-type {\n",
              "        vertical-align: middle;\n",
              "    }\n",
              "\n",
              "    .dataframe tbody tr th {\n",
              "        vertical-align: top;\n",
              "    }\n",
              "\n",
              "    .dataframe thead th {\n",
              "        text-align: right;\n",
              "    }\n",
              "</style>\n",
              "<table border=\"1\" class=\"dataframe\">\n",
              "  <thead>\n",
              "    <tr style=\"text-align: right;\">\n",
              "      <th></th>\n",
              "      <th>OEM</th>\n",
              "      <th>Model</th>\n",
              "      <th>Original Price</th>\n",
              "      <th>Vehicle Age</th>\n",
              "      <th>IDV</th>\n",
              "      <th>Policy Dt</th>\n",
              "      <th>Accident Dt</th>\n",
              "      <th>Report Dt</th>\n",
              "      <th>Policy_Accident</th>\n",
              "      <th>Policy_Report</th>\n",
              "      <th>Accident_Report</th>\n",
              "      <th>Prediction</th>\n",
              "    </tr>\n",
              "  </thead>\n",
              "  <tbody>\n",
              "    <tr>\n",
              "      <th>0</th>\n",
              "      <td>NaN</td>\n",
              "      <td>NaN</td>\n",
              "      <td>NaN</td>\n",
              "      <td>NaN</td>\n",
              "      <td>NaN</td>\n",
              "      <td>NaN</td>\n",
              "      <td>NaN</td>\n",
              "      <td>NaN</td>\n",
              "      <td>NaN</td>\n",
              "      <td>NaN</td>\n",
              "      <td>NaN</td>\n",
              "      <td>12.5%</td>\n",
              "    </tr>\n",
              "    <tr>\n",
              "      <th>1</th>\n",
              "      <td>OEM</td>\n",
              "      <td>Model</td>\n",
              "      <td>Original Price</td>\n",
              "      <td>Vehicle Age</td>\n",
              "      <td>IDV</td>\n",
              "      <td>Policy Dt</td>\n",
              "      <td>Accident Dt</td>\n",
              "      <td>Report Dt</td>\n",
              "      <td>Policy_Accident</td>\n",
              "      <td>Policy_Report</td>\n",
              "      <td>Accident_Report</td>\n",
              "      <td>Tampered Docs</td>\n",
              "    </tr>\n",
              "    <tr>\n",
              "      <th>2</th>\n",
              "      <td>Hero</td>\n",
              "      <td>M4</td>\n",
              "      <td>100,000</td>\n",
              "      <td>3</td>\n",
              "      <td>61,413</td>\n",
              "      <td>30-Apr-22</td>\n",
              "      <td>1-May-22</td>\n",
              "      <td>2-May-22</td>\n",
              "      <td>1</td>\n",
              "      <td>2</td>\n",
              "      <td>1</td>\n",
              "      <td>0</td>\n",
              "    </tr>\n",
              "    <tr>\n",
              "      <th>3</th>\n",
              "      <td>Honda</td>\n",
              "      <td>M3</td>\n",
              "      <td>90,000</td>\n",
              "      <td>1</td>\n",
              "      <td>76,500</td>\n",
              "      <td>11-Jun-22</td>\n",
              "      <td>19-Aug-22</td>\n",
              "      <td>21-Aug-22</td>\n",
              "      <td>69</td>\n",
              "      <td>71</td>\n",
              "      <td>2</td>\n",
              "      <td>0</td>\n",
              "    </tr>\n",
              "    <tr>\n",
              "      <th>4</th>\n",
              "      <td>Honda</td>\n",
              "      <td>M2</td>\n",
              "      <td>72,000</td>\n",
              "      <td>3</td>\n",
              "      <td>44,217</td>\n",
              "      <td>4-Apr-22</td>\n",
              "      <td>22-May-22</td>\n",
              "      <td>23-May-22</td>\n",
              "      <td>48</td>\n",
              "      <td>49</td>\n",
              "      <td>1</td>\n",
              "      <td>0</td>\n",
              "    </tr>\n",
              "  </tbody>\n",
              "</table>\n",
              "</div>\n",
              "      <button class=\"colab-df-convert\" onclick=\"convertToInteractive('df-2bb4d6ef-cb88-433f-9e06-758618bff46c')\"\n",
              "              title=\"Convert this dataframe to an interactive table.\"\n",
              "              style=\"display:none;\">\n",
              "        \n",
              "  <svg xmlns=\"http://www.w3.org/2000/svg\" height=\"24px\"viewBox=\"0 0 24 24\"\n",
              "       width=\"24px\">\n",
              "    <path d=\"M0 0h24v24H0V0z\" fill=\"none\"/>\n",
              "    <path d=\"M18.56 5.44l.94 2.06.94-2.06 2.06-.94-2.06-.94-.94-2.06-.94 2.06-2.06.94zm-11 1L8.5 8.5l.94-2.06 2.06-.94-2.06-.94L8.5 2.5l-.94 2.06-2.06.94zm10 10l.94 2.06.94-2.06 2.06-.94-2.06-.94-.94-2.06-.94 2.06-2.06.94z\"/><path d=\"M17.41 7.96l-1.37-1.37c-.4-.4-.92-.59-1.43-.59-.52 0-1.04.2-1.43.59L10.3 9.45l-7.72 7.72c-.78.78-.78 2.05 0 2.83L4 21.41c.39.39.9.59 1.41.59.51 0 1.02-.2 1.41-.59l7.78-7.78 2.81-2.81c.8-.78.8-2.07 0-2.86zM5.41 20L4 18.59l7.72-7.72 1.47 1.35L5.41 20z\"/>\n",
              "  </svg>\n",
              "      </button>\n",
              "      \n",
              "  <style>\n",
              "    .colab-df-container {\n",
              "      display:flex;\n",
              "      flex-wrap:wrap;\n",
              "      gap: 12px;\n",
              "    }\n",
              "\n",
              "    .colab-df-convert {\n",
              "      background-color: #E8F0FE;\n",
              "      border: none;\n",
              "      border-radius: 50%;\n",
              "      cursor: pointer;\n",
              "      display: none;\n",
              "      fill: #1967D2;\n",
              "      height: 32px;\n",
              "      padding: 0 0 0 0;\n",
              "      width: 32px;\n",
              "    }\n",
              "\n",
              "    .colab-df-convert:hover {\n",
              "      background-color: #E2EBFA;\n",
              "      box-shadow: 0px 1px 2px rgba(60, 64, 67, 0.3), 0px 1px 3px 1px rgba(60, 64, 67, 0.15);\n",
              "      fill: #174EA6;\n",
              "    }\n",
              "\n",
              "    [theme=dark] .colab-df-convert {\n",
              "      background-color: #3B4455;\n",
              "      fill: #D2E3FC;\n",
              "    }\n",
              "\n",
              "    [theme=dark] .colab-df-convert:hover {\n",
              "      background-color: #434B5C;\n",
              "      box-shadow: 0px 1px 3px 1px rgba(0, 0, 0, 0.15);\n",
              "      filter: drop-shadow(0px 1px 2px rgba(0, 0, 0, 0.3));\n",
              "      fill: #FFFFFF;\n",
              "    }\n",
              "  </style>\n",
              "\n",
              "      <script>\n",
              "        const buttonEl =\n",
              "          document.querySelector('#df-2bb4d6ef-cb88-433f-9e06-758618bff46c button.colab-df-convert');\n",
              "        buttonEl.style.display =\n",
              "          google.colab.kernel.accessAllowed ? 'block' : 'none';\n",
              "\n",
              "        async function convertToInteractive(key) {\n",
              "          const element = document.querySelector('#df-2bb4d6ef-cb88-433f-9e06-758618bff46c');\n",
              "          const dataTable =\n",
              "            await google.colab.kernel.invokeFunction('convertToInteractive',\n",
              "                                                     [key], {});\n",
              "          if (!dataTable) return;\n",
              "\n",
              "          const docLinkHtml = 'Like what you see? Visit the ' +\n",
              "            '<a target=\"_blank\" href=https://colab.research.google.com/notebooks/data_table.ipynb>data table notebook</a>'\n",
              "            + ' to learn more about interactive tables.';\n",
              "          element.innerHTML = '';\n",
              "          dataTable['output_type'] = 'display_data';\n",
              "          await google.colab.output.renderOutput(dataTable, element);\n",
              "          const docLink = document.createElement('div');\n",
              "          docLink.innerHTML = docLinkHtml;\n",
              "          element.appendChild(docLink);\n",
              "        }\n",
              "      </script>\n",
              "    </div>\n",
              "  </div>\n",
              "  "
            ]
          },
          "metadata": {},
          "execution_count": 161
        }
      ]
    },
    {
      "cell_type": "code",
      "source": [
        "df = df.drop(0)\n",
        "df = df.drop(1)"
      ],
      "metadata": {
        "id": "IGNNKRe9uQ6F"
      },
      "execution_count": null,
      "outputs": []
    },
    {
      "cell_type": "code",
      "source": [
        "df1 = df.drop(['Policy Dt','Accident Dt','Report Dt'],axis=1)"
      ],
      "metadata": {
        "id": "Vk35ui5IvF1m"
      },
      "execution_count": null,
      "outputs": []
    },
    {
      "cell_type": "code",
      "source": [
        "df1.head()"
      ],
      "metadata": {
        "colab": {
          "base_uri": "https://localhost:8080/",
          "height": 287
        },
        "id": "B0q-9ZkAvaY_",
        "outputId": "b2122091-f97e-4669-c168-fee59f426dcc"
      },
      "execution_count": null,
      "outputs": [
        {
          "output_type": "execute_result",
          "data": {
            "text/plain": [
              "     OEM Model Original Price Vehicle Age        IDV Policy_Accident  \\\n",
              "2   Hero    M4       100,000            3    61,413                1   \n",
              "3  Honda    M3        90,000            1    76,500               69   \n",
              "4  Honda    M2        72,000            3    44,217               48   \n",
              "5    TVS    M1        45,000            1    38,250               94   \n",
              "6  Honda    M3        90,000            1    76,500               25   \n",
              "\n",
              "  Policy_Report Accident_Report Prediction  \n",
              "2             2               1          0  \n",
              "3            71               2          0  \n",
              "4            49               1          0  \n",
              "5            95               1          0  \n",
              "6            27               2          0  "
            ],
            "text/html": [
              "\n",
              "  <div id=\"df-020d72d2-60a9-4735-ab1a-f6cec8dc999c\">\n",
              "    <div class=\"colab-df-container\">\n",
              "      <div>\n",
              "<style scoped>\n",
              "    .dataframe tbody tr th:only-of-type {\n",
              "        vertical-align: middle;\n",
              "    }\n",
              "\n",
              "    .dataframe tbody tr th {\n",
              "        vertical-align: top;\n",
              "    }\n",
              "\n",
              "    .dataframe thead th {\n",
              "        text-align: right;\n",
              "    }\n",
              "</style>\n",
              "<table border=\"1\" class=\"dataframe\">\n",
              "  <thead>\n",
              "    <tr style=\"text-align: right;\">\n",
              "      <th></th>\n",
              "      <th>OEM</th>\n",
              "      <th>Model</th>\n",
              "      <th>Original Price</th>\n",
              "      <th>Vehicle Age</th>\n",
              "      <th>IDV</th>\n",
              "      <th>Policy_Accident</th>\n",
              "      <th>Policy_Report</th>\n",
              "      <th>Accident_Report</th>\n",
              "      <th>Prediction</th>\n",
              "    </tr>\n",
              "  </thead>\n",
              "  <tbody>\n",
              "    <tr>\n",
              "      <th>2</th>\n",
              "      <td>Hero</td>\n",
              "      <td>M4</td>\n",
              "      <td>100,000</td>\n",
              "      <td>3</td>\n",
              "      <td>61,413</td>\n",
              "      <td>1</td>\n",
              "      <td>2</td>\n",
              "      <td>1</td>\n",
              "      <td>0</td>\n",
              "    </tr>\n",
              "    <tr>\n",
              "      <th>3</th>\n",
              "      <td>Honda</td>\n",
              "      <td>M3</td>\n",
              "      <td>90,000</td>\n",
              "      <td>1</td>\n",
              "      <td>76,500</td>\n",
              "      <td>69</td>\n",
              "      <td>71</td>\n",
              "      <td>2</td>\n",
              "      <td>0</td>\n",
              "    </tr>\n",
              "    <tr>\n",
              "      <th>4</th>\n",
              "      <td>Honda</td>\n",
              "      <td>M2</td>\n",
              "      <td>72,000</td>\n",
              "      <td>3</td>\n",
              "      <td>44,217</td>\n",
              "      <td>48</td>\n",
              "      <td>49</td>\n",
              "      <td>1</td>\n",
              "      <td>0</td>\n",
              "    </tr>\n",
              "    <tr>\n",
              "      <th>5</th>\n",
              "      <td>TVS</td>\n",
              "      <td>M1</td>\n",
              "      <td>45,000</td>\n",
              "      <td>1</td>\n",
              "      <td>38,250</td>\n",
              "      <td>94</td>\n",
              "      <td>95</td>\n",
              "      <td>1</td>\n",
              "      <td>0</td>\n",
              "    </tr>\n",
              "    <tr>\n",
              "      <th>6</th>\n",
              "      <td>Honda</td>\n",
              "      <td>M3</td>\n",
              "      <td>90,000</td>\n",
              "      <td>1</td>\n",
              "      <td>76,500</td>\n",
              "      <td>25</td>\n",
              "      <td>27</td>\n",
              "      <td>2</td>\n",
              "      <td>0</td>\n",
              "    </tr>\n",
              "  </tbody>\n",
              "</table>\n",
              "</div>\n",
              "      <button class=\"colab-df-convert\" onclick=\"convertToInteractive('df-020d72d2-60a9-4735-ab1a-f6cec8dc999c')\"\n",
              "              title=\"Convert this dataframe to an interactive table.\"\n",
              "              style=\"display:none;\">\n",
              "        \n",
              "  <svg xmlns=\"http://www.w3.org/2000/svg\" height=\"24px\"viewBox=\"0 0 24 24\"\n",
              "       width=\"24px\">\n",
              "    <path d=\"M0 0h24v24H0V0z\" fill=\"none\"/>\n",
              "    <path d=\"M18.56 5.44l.94 2.06.94-2.06 2.06-.94-2.06-.94-.94-2.06-.94 2.06-2.06.94zm-11 1L8.5 8.5l.94-2.06 2.06-.94-2.06-.94L8.5 2.5l-.94 2.06-2.06.94zm10 10l.94 2.06.94-2.06 2.06-.94-2.06-.94-.94-2.06-.94 2.06-2.06.94z\"/><path d=\"M17.41 7.96l-1.37-1.37c-.4-.4-.92-.59-1.43-.59-.52 0-1.04.2-1.43.59L10.3 9.45l-7.72 7.72c-.78.78-.78 2.05 0 2.83L4 21.41c.39.39.9.59 1.41.59.51 0 1.02-.2 1.41-.59l7.78-7.78 2.81-2.81c.8-.78.8-2.07 0-2.86zM5.41 20L4 18.59l7.72-7.72 1.47 1.35L5.41 20z\"/>\n",
              "  </svg>\n",
              "      </button>\n",
              "      \n",
              "  <style>\n",
              "    .colab-df-container {\n",
              "      display:flex;\n",
              "      flex-wrap:wrap;\n",
              "      gap: 12px;\n",
              "    }\n",
              "\n",
              "    .colab-df-convert {\n",
              "      background-color: #E8F0FE;\n",
              "      border: none;\n",
              "      border-radius: 50%;\n",
              "      cursor: pointer;\n",
              "      display: none;\n",
              "      fill: #1967D2;\n",
              "      height: 32px;\n",
              "      padding: 0 0 0 0;\n",
              "      width: 32px;\n",
              "    }\n",
              "\n",
              "    .colab-df-convert:hover {\n",
              "      background-color: #E2EBFA;\n",
              "      box-shadow: 0px 1px 2px rgba(60, 64, 67, 0.3), 0px 1px 3px 1px rgba(60, 64, 67, 0.15);\n",
              "      fill: #174EA6;\n",
              "    }\n",
              "\n",
              "    [theme=dark] .colab-df-convert {\n",
              "      background-color: #3B4455;\n",
              "      fill: #D2E3FC;\n",
              "    }\n",
              "\n",
              "    [theme=dark] .colab-df-convert:hover {\n",
              "      background-color: #434B5C;\n",
              "      box-shadow: 0px 1px 3px 1px rgba(0, 0, 0, 0.15);\n",
              "      filter: drop-shadow(0px 1px 2px rgba(0, 0, 0, 0.3));\n",
              "      fill: #FFFFFF;\n",
              "    }\n",
              "  </style>\n",
              "\n",
              "      <script>\n",
              "        const buttonEl =\n",
              "          document.querySelector('#df-020d72d2-60a9-4735-ab1a-f6cec8dc999c button.colab-df-convert');\n",
              "        buttonEl.style.display =\n",
              "          google.colab.kernel.accessAllowed ? 'block' : 'none';\n",
              "\n",
              "        async function convertToInteractive(key) {\n",
              "          const element = document.querySelector('#df-020d72d2-60a9-4735-ab1a-f6cec8dc999c');\n",
              "          const dataTable =\n",
              "            await google.colab.kernel.invokeFunction('convertToInteractive',\n",
              "                                                     [key], {});\n",
              "          if (!dataTable) return;\n",
              "\n",
              "          const docLinkHtml = 'Like what you see? Visit the ' +\n",
              "            '<a target=\"_blank\" href=https://colab.research.google.com/notebooks/data_table.ipynb>data table notebook</a>'\n",
              "            + ' to learn more about interactive tables.';\n",
              "          element.innerHTML = '';\n",
              "          dataTable['output_type'] = 'display_data';\n",
              "          await google.colab.output.renderOutput(dataTable, element);\n",
              "          const docLink = document.createElement('div');\n",
              "          docLink.innerHTML = docLinkHtml;\n",
              "          element.appendChild(docLink);\n",
              "        }\n",
              "      </script>\n",
              "    </div>\n",
              "  </div>\n",
              "  "
            ]
          },
          "metadata": {},
          "execution_count": 164
        }
      ]
    },
    {
      "cell_type": "code",
      "source": [
        "df['OEM'].unique()"
      ],
      "metadata": {
        "colab": {
          "base_uri": "https://localhost:8080/"
        },
        "id": "7U5LJ4Qdvbbq",
        "outputId": "d6c6ceda-c33a-4aec-f6e0-bcabaafd08a5"
      },
      "execution_count": null,
      "outputs": [
        {
          "output_type": "execute_result",
          "data": {
            "text/plain": [
              "array(['Hero', 'Honda', 'TVS'], dtype=object)"
            ]
          },
          "metadata": {},
          "execution_count": 165
        }
      ]
    },
    {
      "cell_type": "code",
      "source": [
        " df1.Model = df1.Model.replace({'M1': 1,'M2': 2,'M3': 3,'M4': 4})\n",
        " df1.OEM = df1.OEM.replace({'Hero': 1,'Honda': 2,'TVS': 3})"
      ],
      "metadata": {
        "id": "UGAOmOKMviK5"
      },
      "execution_count": null,
      "outputs": []
    },
    {
      "cell_type": "code",
      "source": [
        "df1.head()"
      ],
      "metadata": {
        "colab": {
          "base_uri": "https://localhost:8080/",
          "height": 287
        },
        "id": "K7tWr3aZv1TN",
        "outputId": "25e1efd2-9ca9-4120-ab9d-c08df3314516"
      },
      "execution_count": null,
      "outputs": [
        {
          "output_type": "execute_result",
          "data": {
            "text/plain": [
              "   OEM  Model Original Price Vehicle Age        IDV Policy_Accident  \\\n",
              "2    1      4       100,000            3    61,413                1   \n",
              "3    2      3        90,000            1    76,500               69   \n",
              "4    2      2        72,000            3    44,217               48   \n",
              "5    3      1        45,000            1    38,250               94   \n",
              "6    2      3        90,000            1    76,500               25   \n",
              "\n",
              "  Policy_Report Accident_Report Prediction  \n",
              "2             2               1          0  \n",
              "3            71               2          0  \n",
              "4            49               1          0  \n",
              "5            95               1          0  \n",
              "6            27               2          0  "
            ],
            "text/html": [
              "\n",
              "  <div id=\"df-cf7568b9-731b-42c5-8219-8fa7315000ad\">\n",
              "    <div class=\"colab-df-container\">\n",
              "      <div>\n",
              "<style scoped>\n",
              "    .dataframe tbody tr th:only-of-type {\n",
              "        vertical-align: middle;\n",
              "    }\n",
              "\n",
              "    .dataframe tbody tr th {\n",
              "        vertical-align: top;\n",
              "    }\n",
              "\n",
              "    .dataframe thead th {\n",
              "        text-align: right;\n",
              "    }\n",
              "</style>\n",
              "<table border=\"1\" class=\"dataframe\">\n",
              "  <thead>\n",
              "    <tr style=\"text-align: right;\">\n",
              "      <th></th>\n",
              "      <th>OEM</th>\n",
              "      <th>Model</th>\n",
              "      <th>Original Price</th>\n",
              "      <th>Vehicle Age</th>\n",
              "      <th>IDV</th>\n",
              "      <th>Policy_Accident</th>\n",
              "      <th>Policy_Report</th>\n",
              "      <th>Accident_Report</th>\n",
              "      <th>Prediction</th>\n",
              "    </tr>\n",
              "  </thead>\n",
              "  <tbody>\n",
              "    <tr>\n",
              "      <th>2</th>\n",
              "      <td>1</td>\n",
              "      <td>4</td>\n",
              "      <td>100,000</td>\n",
              "      <td>3</td>\n",
              "      <td>61,413</td>\n",
              "      <td>1</td>\n",
              "      <td>2</td>\n",
              "      <td>1</td>\n",
              "      <td>0</td>\n",
              "    </tr>\n",
              "    <tr>\n",
              "      <th>3</th>\n",
              "      <td>2</td>\n",
              "      <td>3</td>\n",
              "      <td>90,000</td>\n",
              "      <td>1</td>\n",
              "      <td>76,500</td>\n",
              "      <td>69</td>\n",
              "      <td>71</td>\n",
              "      <td>2</td>\n",
              "      <td>0</td>\n",
              "    </tr>\n",
              "    <tr>\n",
              "      <th>4</th>\n",
              "      <td>2</td>\n",
              "      <td>2</td>\n",
              "      <td>72,000</td>\n",
              "      <td>3</td>\n",
              "      <td>44,217</td>\n",
              "      <td>48</td>\n",
              "      <td>49</td>\n",
              "      <td>1</td>\n",
              "      <td>0</td>\n",
              "    </tr>\n",
              "    <tr>\n",
              "      <th>5</th>\n",
              "      <td>3</td>\n",
              "      <td>1</td>\n",
              "      <td>45,000</td>\n",
              "      <td>1</td>\n",
              "      <td>38,250</td>\n",
              "      <td>94</td>\n",
              "      <td>95</td>\n",
              "      <td>1</td>\n",
              "      <td>0</td>\n",
              "    </tr>\n",
              "    <tr>\n",
              "      <th>6</th>\n",
              "      <td>2</td>\n",
              "      <td>3</td>\n",
              "      <td>90,000</td>\n",
              "      <td>1</td>\n",
              "      <td>76,500</td>\n",
              "      <td>25</td>\n",
              "      <td>27</td>\n",
              "      <td>2</td>\n",
              "      <td>0</td>\n",
              "    </tr>\n",
              "  </tbody>\n",
              "</table>\n",
              "</div>\n",
              "      <button class=\"colab-df-convert\" onclick=\"convertToInteractive('df-cf7568b9-731b-42c5-8219-8fa7315000ad')\"\n",
              "              title=\"Convert this dataframe to an interactive table.\"\n",
              "              style=\"display:none;\">\n",
              "        \n",
              "  <svg xmlns=\"http://www.w3.org/2000/svg\" height=\"24px\"viewBox=\"0 0 24 24\"\n",
              "       width=\"24px\">\n",
              "    <path d=\"M0 0h24v24H0V0z\" fill=\"none\"/>\n",
              "    <path d=\"M18.56 5.44l.94 2.06.94-2.06 2.06-.94-2.06-.94-.94-2.06-.94 2.06-2.06.94zm-11 1L8.5 8.5l.94-2.06 2.06-.94-2.06-.94L8.5 2.5l-.94 2.06-2.06.94zm10 10l.94 2.06.94-2.06 2.06-.94-2.06-.94-.94-2.06-.94 2.06-2.06.94z\"/><path d=\"M17.41 7.96l-1.37-1.37c-.4-.4-.92-.59-1.43-.59-.52 0-1.04.2-1.43.59L10.3 9.45l-7.72 7.72c-.78.78-.78 2.05 0 2.83L4 21.41c.39.39.9.59 1.41.59.51 0 1.02-.2 1.41-.59l7.78-7.78 2.81-2.81c.8-.78.8-2.07 0-2.86zM5.41 20L4 18.59l7.72-7.72 1.47 1.35L5.41 20z\"/>\n",
              "  </svg>\n",
              "      </button>\n",
              "      \n",
              "  <style>\n",
              "    .colab-df-container {\n",
              "      display:flex;\n",
              "      flex-wrap:wrap;\n",
              "      gap: 12px;\n",
              "    }\n",
              "\n",
              "    .colab-df-convert {\n",
              "      background-color: #E8F0FE;\n",
              "      border: none;\n",
              "      border-radius: 50%;\n",
              "      cursor: pointer;\n",
              "      display: none;\n",
              "      fill: #1967D2;\n",
              "      height: 32px;\n",
              "      padding: 0 0 0 0;\n",
              "      width: 32px;\n",
              "    }\n",
              "\n",
              "    .colab-df-convert:hover {\n",
              "      background-color: #E2EBFA;\n",
              "      box-shadow: 0px 1px 2px rgba(60, 64, 67, 0.3), 0px 1px 3px 1px rgba(60, 64, 67, 0.15);\n",
              "      fill: #174EA6;\n",
              "    }\n",
              "\n",
              "    [theme=dark] .colab-df-convert {\n",
              "      background-color: #3B4455;\n",
              "      fill: #D2E3FC;\n",
              "    }\n",
              "\n",
              "    [theme=dark] .colab-df-convert:hover {\n",
              "      background-color: #434B5C;\n",
              "      box-shadow: 0px 1px 3px 1px rgba(0, 0, 0, 0.15);\n",
              "      filter: drop-shadow(0px 1px 2px rgba(0, 0, 0, 0.3));\n",
              "      fill: #FFFFFF;\n",
              "    }\n",
              "  </style>\n",
              "\n",
              "      <script>\n",
              "        const buttonEl =\n",
              "          document.querySelector('#df-cf7568b9-731b-42c5-8219-8fa7315000ad button.colab-df-convert');\n",
              "        buttonEl.style.display =\n",
              "          google.colab.kernel.accessAllowed ? 'block' : 'none';\n",
              "\n",
              "        async function convertToInteractive(key) {\n",
              "          const element = document.querySelector('#df-cf7568b9-731b-42c5-8219-8fa7315000ad');\n",
              "          const dataTable =\n",
              "            await google.colab.kernel.invokeFunction('convertToInteractive',\n",
              "                                                     [key], {});\n",
              "          if (!dataTable) return;\n",
              "\n",
              "          const docLinkHtml = 'Like what you see? Visit the ' +\n",
              "            '<a target=\"_blank\" href=https://colab.research.google.com/notebooks/data_table.ipynb>data table notebook</a>'\n",
              "            + ' to learn more about interactive tables.';\n",
              "          element.innerHTML = '';\n",
              "          dataTable['output_type'] = 'display_data';\n",
              "          await google.colab.output.renderOutput(dataTable, element);\n",
              "          const docLink = document.createElement('div');\n",
              "          docLink.innerHTML = docLinkHtml;\n",
              "          element.appendChild(docLink);\n",
              "        }\n",
              "      </script>\n",
              "    </div>\n",
              "  </div>\n",
              "  "
            ]
          },
          "metadata": {},
          "execution_count": 167
        }
      ]
    },
    {
      "cell_type": "code",
      "source": [
        "df1.columns"
      ],
      "metadata": {
        "colab": {
          "base_uri": "https://localhost:8080/"
        },
        "id": "O-jD9FzXwsJu",
        "outputId": "2e3456cb-956b-4082-fa1e-f60145204fb6"
      },
      "execution_count": null,
      "outputs": [
        {
          "output_type": "execute_result",
          "data": {
            "text/plain": [
              "Index(['OEM', 'Model', 'Original Price', 'Vehicle Age', 'IDV',\n",
              "       'Policy_Accident', 'Policy_Report', 'Accident_Report', 'Prediction'],\n",
              "      dtype='object')"
            ]
          },
          "metadata": {},
          "execution_count": 168
        }
      ]
    },
    {
      "cell_type": "code",
      "source": [
        "import re\n",
        "def Converting(str1):\n",
        "  result = re.sub(r\"[^\\d]\", \"\", str1)\n",
        "  return int(result)\n",
        "\n",
        "df1['Original Price'] = df1['Original Price'].apply(lambda x: Converting(x))\n",
        "df1['IDV'] = df1['IDV'].apply(lambda x: Converting(x))"
      ],
      "metadata": {
        "id": "736B1rrcxJCK"
      },
      "execution_count": null,
      "outputs": []
    },
    {
      "cell_type": "code",
      "source": [
        "df1.info()"
      ],
      "metadata": {
        "colab": {
          "base_uri": "https://localhost:8080/"
        },
        "id": "drzdKxpaxMft",
        "outputId": "9f7fa5a4-7ca8-46f6-ac98-cab7a55e845e"
      },
      "execution_count": null,
      "outputs": [
        {
          "output_type": "stream",
          "name": "stdout",
          "text": [
            "<class 'pandas.core.frame.DataFrame'>\n",
            "Int64Index: 19997 entries, 2 to 19998\n",
            "Data columns (total 9 columns):\n",
            " #   Column           Non-Null Count  Dtype \n",
            "---  ------           --------------  ----- \n",
            " 0   OEM              19997 non-null  int64 \n",
            " 1   Model            19997 non-null  int64 \n",
            " 2   Original Price   19997 non-null  int64 \n",
            " 3   Vehicle Age      19997 non-null  object\n",
            " 4   IDV              19997 non-null  int64 \n",
            " 5   Policy_Accident  19997 non-null  object\n",
            " 6   Policy_Report    19997 non-null  object\n",
            " 7   Accident_Report  19997 non-null  object\n",
            " 8   Prediction       19997 non-null  object\n",
            "dtypes: int64(4), object(5)\n",
            "memory usage: 1.5+ MB\n"
          ]
        }
      ]
    },
    {
      "cell_type": "code",
      "source": [
        "# df1['Original Price'] = df1['Original Price'].astype(int)\n",
        "df1['Vehicle Age'] = df1['Vehicle Age'].astype(int)\n",
        "# df1['IDV'] = df1['IDV'].astype(int)\n",
        "df1['Policy_Accident'] = df1['Policy_Accident'].astype(int)\n",
        "df1['Policy_Report'] = df1['Policy_Report'].astype(int)\n",
        "df1['Accident_Report'] = df1['Accident_Report'].astype(int)\n",
        "df1['Prediction'] = df1['Prediction'].astype(int)"
      ],
      "metadata": {
        "id": "Lkmg_umkz3yj"
      },
      "execution_count": null,
      "outputs": []
    },
    {
      "cell_type": "code",
      "source": [
        "#Tampered Docs\t\n",
        "#Inflated Invoice\t\n",
        "#Fraud Lingo\t\n",
        "#Inconsistency\t\n",
        "#Claims History\t\n",
        "#CIBIL Score\t\n",
        "#Intermediary \t\n",
        "#Close Proximity\t\n",
        "#Market Roll Over\t\n",
        "#DL Repeat\t\n",
        "#Inconsistency"
      ],
      "metadata": {
        "id": "tZvO2oTTUHC5"
      },
      "execution_count": null,
      "outputs": []
    },
    {
      "cell_type": "markdown",
      "source": [
        "# Tampered Docs Prediction"
      ],
      "metadata": {
        "id": "akfG7_-c3v7T"
      }
    },
    {
      "cell_type": "code",
      "source": [
        "X = df1.drop('Prediction',axis=1)\n",
        "Y = df1['Prediction']"
      ],
      "metadata": {
        "id": "Guv4Z2S9wD_D"
      },
      "execution_count": null,
      "outputs": []
    },
    {
      "cell_type": "code",
      "source": [
        "X "
      ],
      "metadata": {
        "colab": {
          "base_uri": "https://localhost:8080/",
          "height": 505
        },
        "id": "Bwg-Z5lUwTpX",
        "outputId": "42774080-62e4-4f14-b34e-23ef28236809"
      },
      "execution_count": null,
      "outputs": [
        {
          "output_type": "execute_result",
          "data": {
            "text/plain": [
              "       OEM  Model  Original Price  Vehicle Age    IDV  Policy_Accident  \\\n",
              "2        1      4          100000            3  61413                1   \n",
              "3        2      3           90000            1  76500               69   \n",
              "4        2      2           72000            3  44217               48   \n",
              "5        3      1           45000            1  38250               94   \n",
              "6        2      3           90000            1  76500               25   \n",
              "...    ...    ...             ...          ...    ...              ...   \n",
              "19994    3      1           45000            2  32513               38   \n",
              "19995    3      1           45000            1  38250               49   \n",
              "19996    1      3           75000            4  39150               87   \n",
              "19997    1      4          100000            1  85000               19   \n",
              "19998    3      1           45000            2  32513               84   \n",
              "\n",
              "       Policy_Report  Accident_Report  \n",
              "2                  2                1  \n",
              "3                 71                2  \n",
              "4                 49                1  \n",
              "5                 95                1  \n",
              "6                 27                2  \n",
              "...              ...              ...  \n",
              "19994             43                5  \n",
              "19995             51                2  \n",
              "19996             89                2  \n",
              "19997             22                3  \n",
              "19998             88                4  \n",
              "\n",
              "[19997 rows x 8 columns]"
            ],
            "text/html": [
              "\n",
              "  <div id=\"df-353e5cd9-b3ba-4e70-9ae2-468a26fb278d\">\n",
              "    <div class=\"colab-df-container\">\n",
              "      <div>\n",
              "<style scoped>\n",
              "    .dataframe tbody tr th:only-of-type {\n",
              "        vertical-align: middle;\n",
              "    }\n",
              "\n",
              "    .dataframe tbody tr th {\n",
              "        vertical-align: top;\n",
              "    }\n",
              "\n",
              "    .dataframe thead th {\n",
              "        text-align: right;\n",
              "    }\n",
              "</style>\n",
              "<table border=\"1\" class=\"dataframe\">\n",
              "  <thead>\n",
              "    <tr style=\"text-align: right;\">\n",
              "      <th></th>\n",
              "      <th>OEM</th>\n",
              "      <th>Model</th>\n",
              "      <th>Original Price</th>\n",
              "      <th>Vehicle Age</th>\n",
              "      <th>IDV</th>\n",
              "      <th>Policy_Accident</th>\n",
              "      <th>Policy_Report</th>\n",
              "      <th>Accident_Report</th>\n",
              "    </tr>\n",
              "  </thead>\n",
              "  <tbody>\n",
              "    <tr>\n",
              "      <th>2</th>\n",
              "      <td>1</td>\n",
              "      <td>4</td>\n",
              "      <td>100000</td>\n",
              "      <td>3</td>\n",
              "      <td>61413</td>\n",
              "      <td>1</td>\n",
              "      <td>2</td>\n",
              "      <td>1</td>\n",
              "    </tr>\n",
              "    <tr>\n",
              "      <th>3</th>\n",
              "      <td>2</td>\n",
              "      <td>3</td>\n",
              "      <td>90000</td>\n",
              "      <td>1</td>\n",
              "      <td>76500</td>\n",
              "      <td>69</td>\n",
              "      <td>71</td>\n",
              "      <td>2</td>\n",
              "    </tr>\n",
              "    <tr>\n",
              "      <th>4</th>\n",
              "      <td>2</td>\n",
              "      <td>2</td>\n",
              "      <td>72000</td>\n",
              "      <td>3</td>\n",
              "      <td>44217</td>\n",
              "      <td>48</td>\n",
              "      <td>49</td>\n",
              "      <td>1</td>\n",
              "    </tr>\n",
              "    <tr>\n",
              "      <th>5</th>\n",
              "      <td>3</td>\n",
              "      <td>1</td>\n",
              "      <td>45000</td>\n",
              "      <td>1</td>\n",
              "      <td>38250</td>\n",
              "      <td>94</td>\n",
              "      <td>95</td>\n",
              "      <td>1</td>\n",
              "    </tr>\n",
              "    <tr>\n",
              "      <th>6</th>\n",
              "      <td>2</td>\n",
              "      <td>3</td>\n",
              "      <td>90000</td>\n",
              "      <td>1</td>\n",
              "      <td>76500</td>\n",
              "      <td>25</td>\n",
              "      <td>27</td>\n",
              "      <td>2</td>\n",
              "    </tr>\n",
              "    <tr>\n",
              "      <th>...</th>\n",
              "      <td>...</td>\n",
              "      <td>...</td>\n",
              "      <td>...</td>\n",
              "      <td>...</td>\n",
              "      <td>...</td>\n",
              "      <td>...</td>\n",
              "      <td>...</td>\n",
              "      <td>...</td>\n",
              "    </tr>\n",
              "    <tr>\n",
              "      <th>19994</th>\n",
              "      <td>3</td>\n",
              "      <td>1</td>\n",
              "      <td>45000</td>\n",
              "      <td>2</td>\n",
              "      <td>32513</td>\n",
              "      <td>38</td>\n",
              "      <td>43</td>\n",
              "      <td>5</td>\n",
              "    </tr>\n",
              "    <tr>\n",
              "      <th>19995</th>\n",
              "      <td>3</td>\n",
              "      <td>1</td>\n",
              "      <td>45000</td>\n",
              "      <td>1</td>\n",
              "      <td>38250</td>\n",
              "      <td>49</td>\n",
              "      <td>51</td>\n",
              "      <td>2</td>\n",
              "    </tr>\n",
              "    <tr>\n",
              "      <th>19996</th>\n",
              "      <td>1</td>\n",
              "      <td>3</td>\n",
              "      <td>75000</td>\n",
              "      <td>4</td>\n",
              "      <td>39150</td>\n",
              "      <td>87</td>\n",
              "      <td>89</td>\n",
              "      <td>2</td>\n",
              "    </tr>\n",
              "    <tr>\n",
              "      <th>19997</th>\n",
              "      <td>1</td>\n",
              "      <td>4</td>\n",
              "      <td>100000</td>\n",
              "      <td>1</td>\n",
              "      <td>85000</td>\n",
              "      <td>19</td>\n",
              "      <td>22</td>\n",
              "      <td>3</td>\n",
              "    </tr>\n",
              "    <tr>\n",
              "      <th>19998</th>\n",
              "      <td>3</td>\n",
              "      <td>1</td>\n",
              "      <td>45000</td>\n",
              "      <td>2</td>\n",
              "      <td>32513</td>\n",
              "      <td>84</td>\n",
              "      <td>88</td>\n",
              "      <td>4</td>\n",
              "    </tr>\n",
              "  </tbody>\n",
              "</table>\n",
              "<p>19997 rows × 8 columns</p>\n",
              "</div>\n",
              "      <button class=\"colab-df-convert\" onclick=\"convertToInteractive('df-353e5cd9-b3ba-4e70-9ae2-468a26fb278d')\"\n",
              "              title=\"Convert this dataframe to an interactive table.\"\n",
              "              style=\"display:none;\">\n",
              "        \n",
              "  <svg xmlns=\"http://www.w3.org/2000/svg\" height=\"24px\"viewBox=\"0 0 24 24\"\n",
              "       width=\"24px\">\n",
              "    <path d=\"M0 0h24v24H0V0z\" fill=\"none\"/>\n",
              "    <path d=\"M18.56 5.44l.94 2.06.94-2.06 2.06-.94-2.06-.94-.94-2.06-.94 2.06-2.06.94zm-11 1L8.5 8.5l.94-2.06 2.06-.94-2.06-.94L8.5 2.5l-.94 2.06-2.06.94zm10 10l.94 2.06.94-2.06 2.06-.94-2.06-.94-.94-2.06-.94 2.06-2.06.94z\"/><path d=\"M17.41 7.96l-1.37-1.37c-.4-.4-.92-.59-1.43-.59-.52 0-1.04.2-1.43.59L10.3 9.45l-7.72 7.72c-.78.78-.78 2.05 0 2.83L4 21.41c.39.39.9.59 1.41.59.51 0 1.02-.2 1.41-.59l7.78-7.78 2.81-2.81c.8-.78.8-2.07 0-2.86zM5.41 20L4 18.59l7.72-7.72 1.47 1.35L5.41 20z\"/>\n",
              "  </svg>\n",
              "      </button>\n",
              "      \n",
              "  <style>\n",
              "    .colab-df-container {\n",
              "      display:flex;\n",
              "      flex-wrap:wrap;\n",
              "      gap: 12px;\n",
              "    }\n",
              "\n",
              "    .colab-df-convert {\n",
              "      background-color: #E8F0FE;\n",
              "      border: none;\n",
              "      border-radius: 50%;\n",
              "      cursor: pointer;\n",
              "      display: none;\n",
              "      fill: #1967D2;\n",
              "      height: 32px;\n",
              "      padding: 0 0 0 0;\n",
              "      width: 32px;\n",
              "    }\n",
              "\n",
              "    .colab-df-convert:hover {\n",
              "      background-color: #E2EBFA;\n",
              "      box-shadow: 0px 1px 2px rgba(60, 64, 67, 0.3), 0px 1px 3px 1px rgba(60, 64, 67, 0.15);\n",
              "      fill: #174EA6;\n",
              "    }\n",
              "\n",
              "    [theme=dark] .colab-df-convert {\n",
              "      background-color: #3B4455;\n",
              "      fill: #D2E3FC;\n",
              "    }\n",
              "\n",
              "    [theme=dark] .colab-df-convert:hover {\n",
              "      background-color: #434B5C;\n",
              "      box-shadow: 0px 1px 3px 1px rgba(0, 0, 0, 0.15);\n",
              "      filter: drop-shadow(0px 1px 2px rgba(0, 0, 0, 0.3));\n",
              "      fill: #FFFFFF;\n",
              "    }\n",
              "  </style>\n",
              "\n",
              "      <script>\n",
              "        const buttonEl =\n",
              "          document.querySelector('#df-353e5cd9-b3ba-4e70-9ae2-468a26fb278d button.colab-df-convert');\n",
              "        buttonEl.style.display =\n",
              "          google.colab.kernel.accessAllowed ? 'block' : 'none';\n",
              "\n",
              "        async function convertToInteractive(key) {\n",
              "          const element = document.querySelector('#df-353e5cd9-b3ba-4e70-9ae2-468a26fb278d');\n",
              "          const dataTable =\n",
              "            await google.colab.kernel.invokeFunction('convertToInteractive',\n",
              "                                                     [key], {});\n",
              "          if (!dataTable) return;\n",
              "\n",
              "          const docLinkHtml = 'Like what you see? Visit the ' +\n",
              "            '<a target=\"_blank\" href=https://colab.research.google.com/notebooks/data_table.ipynb>data table notebook</a>'\n",
              "            + ' to learn more about interactive tables.';\n",
              "          element.innerHTML = '';\n",
              "          dataTable['output_type'] = 'display_data';\n",
              "          await google.colab.output.renderOutput(dataTable, element);\n",
              "          const docLink = document.createElement('div');\n",
              "          docLink.innerHTML = docLinkHtml;\n",
              "          element.appendChild(docLink);\n",
              "        }\n",
              "      </script>\n",
              "    </div>\n",
              "  </div>\n",
              "  "
            ]
          },
          "metadata": {},
          "execution_count": 173
        }
      ]
    },
    {
      "cell_type": "code",
      "source": [
        "Y"
      ],
      "metadata": {
        "colab": {
          "base_uri": "https://localhost:8080/"
        },
        "id": "YvS-hhy3wydA",
        "outputId": "58082387-cef8-4618-eae7-854d91f764a5"
      },
      "execution_count": null,
      "outputs": [
        {
          "output_type": "execute_result",
          "data": {
            "text/plain": [
              "2        0\n",
              "3        0\n",
              "4        0\n",
              "5        0\n",
              "6        0\n",
              "        ..\n",
              "19994    0\n",
              "19995    0\n",
              "19996    0\n",
              "19997    0\n",
              "19998    0\n",
              "Name: Prediction, Length: 19997, dtype: int64"
            ]
          },
          "metadata": {},
          "execution_count": 174
        }
      ]
    },
    {
      "cell_type": "code",
      "source": [
        "X_train, X_test, y_train, y_test = train_test_split(X, Y, test_size=0.2)\n"
      ],
      "metadata": {
        "id": "aJPINTDrwyv3"
      },
      "execution_count": null,
      "outputs": []
    },
    {
      "cell_type": "code",
      "source": [
        "print(\"Size of X Train:- \" + str(X_train.shape))\n",
        "print(\"Size of X Test:- \" + str(X_test.shape))\n",
        "print(\"Size of Y Train:- \" + str(y_train.shape))\n",
        "print(\"Size of Y Test:- \" + str(y_test.shape))"
      ],
      "metadata": {
        "colab": {
          "base_uri": "https://localhost:8080/"
        },
        "id": "SK7nOSt4w8Kz",
        "outputId": "d9568205-7595-431e-dad4-c3bcb67f4064"
      },
      "execution_count": null,
      "outputs": [
        {
          "output_type": "stream",
          "name": "stdout",
          "text": [
            "Size of X Train:- (15997, 8)\n",
            "Size of X Test:- (4000, 8)\n",
            "Size of Y Train:- (15997,)\n",
            "Size of Y Test:- (4000,)\n"
          ]
        }
      ]
    },
    {
      "cell_type": "code",
      "source": [
        "reg_rf = RandomForestClassifier(max_depth=180,min_samples_split= 5,n_estimators= 152)\n",
        "reg_rf.fit(X_train, y_train)"
      ],
      "metadata": {
        "colab": {
          "base_uri": "https://localhost:8080/"
        },
        "id": "ZYsbup0yw_5f",
        "outputId": "ab20bcaf-4e93-4b48-ad61-1b66d1edaf7d"
      },
      "execution_count": null,
      "outputs": [
        {
          "output_type": "execute_result",
          "data": {
            "text/plain": [
              "RandomForestClassifier(max_depth=180, min_samples_split=5, n_estimators=152)"
            ]
          },
          "metadata": {},
          "execution_count": 177
        }
      ]
    },
    {
      "cell_type": "code",
      "source": [
        "y_pred_1 = reg_rf.predict(X_test)"
      ],
      "metadata": {
        "id": "D8D9IP-92Znr"
      },
      "execution_count": null,
      "outputs": []
    },
    {
      "cell_type": "code",
      "source": [
        "print(metrics.classification_report(y_test, y_pred_1))"
      ],
      "metadata": {
        "colab": {
          "base_uri": "https://localhost:8080/"
        },
        "id": "72Qe0n582cD8",
        "outputId": "a1fffea4-3c71-4829-8217-d4fa86b51ba4"
      },
      "execution_count": null,
      "outputs": [
        {
          "output_type": "stream",
          "name": "stdout",
          "text": [
            "              precision    recall  f1-score   support\n",
            "\n",
            "           0       0.90      0.99      0.94      3603\n",
            "           1       0.07      0.01      0.02       397\n",
            "\n",
            "    accuracy                           0.89      4000\n",
            "   macro avg       0.49      0.50      0.48      4000\n",
            "weighted avg       0.82      0.89      0.85      4000\n",
            "\n"
          ]
        }
      ]
    },
    {
      "cell_type": "code",
      "source": [
        "with open('Tampered.pkl', 'wb') as f:\n",
        "    pickle.dump(reg_rf, f)"
      ],
      "metadata": {
        "id": "krFeuSy-SAjO"
      },
      "execution_count": null,
      "outputs": []
    },
    {
      "cell_type": "markdown",
      "source": [
        "# Inflated Invoice Prediction"
      ],
      "metadata": {
        "id": "KSmcnLOE354d"
      }
    },
    {
      "cell_type": "code",
      "source": [
        "df2 = pd.read_csv('/content/Motor Claim Simulation - frauds.xlsx - Sheet1.csv')"
      ],
      "metadata": {
        "id": "48s2hOYp2eEt"
      },
      "execution_count": null,
      "outputs": []
    },
    {
      "cell_type": "code",
      "source": [
        "df2 = df2.drop(['Motor Claims Data ','Unnamed: 1','Unnamed: 2','Unnamed: 14','Unnamed: 16','Unnamed: 17','Unnamed: 18','Unnamed: 19','Unnamed: 20','Unnamed: 21','Unnamed: 22','Unnamed: 23','Unnamed: 24','Unnamed: 25'],axis=1)"
      ],
      "metadata": {
        "id": "O6_NcahM4BeD"
      },
      "execution_count": null,
      "outputs": []
    },
    {
      "cell_type": "code",
      "source": [
        "df2 = df2.rename(columns={'Unnamed: 3': 'OEM', 'Unnamed: 4': 'Model','Unnamed: 5': 'Original Price','Unnamed: 6': \n",
        "                       'Vehicle Age','Unnamed: 7': 'IDV','Unnamed: 8': 'Policy Dt','Unnamed: 9': 'Accident Dt','Unnamed: 10': 'Report Dt',\n",
        "                       'Unnamed: 11': 'Policy_Accident','Unnamed: 12': 'Policy_Report','Unnamed: 13': 'Accident_Report','Unnamed: 15': 'Prediction'})"
      ],
      "metadata": {
        "id": "1It0OFbz-Y-a"
      },
      "execution_count": null,
      "outputs": []
    },
    {
      "cell_type": "code",
      "source": [
        "df2 = df2.drop(0)\n",
        "df2 = df2.drop(1)"
      ],
      "metadata": {
        "id": "1JiNdLNM-fMt"
      },
      "execution_count": null,
      "outputs": []
    },
    {
      "cell_type": "code",
      "source": [
        "df2.head()"
      ],
      "metadata": {
        "colab": {
          "base_uri": "https://localhost:8080/",
          "height": 374
        },
        "id": "CRAkGBXN4IzV",
        "outputId": "b959689b-a6a4-4b6c-ad3d-a8d82716de2a"
      },
      "execution_count": null,
      "outputs": [
        {
          "output_type": "execute_result",
          "data": {
            "text/plain": [
              "     OEM Model Original Price Vehicle Age        IDV  Policy Dt Accident Dt  \\\n",
              "2   Hero    M4       100,000            3    61,413   30-Apr-22    1-May-22   \n",
              "3  Honda    M3        90,000            1    76,500   11-Jun-22   19-Aug-22   \n",
              "4  Honda    M2        72,000            3    44,217    4-Apr-22   22-May-22   \n",
              "5    TVS    M1        45,000            1    38,250    9-Jun-22   11-Sep-22   \n",
              "6  Honda    M3        90,000            1    76,500   13-Apr-22    8-May-22   \n",
              "\n",
              "   Report Dt Policy_Accident Policy_Report Accident_Report Prediction  \n",
              "2   2-May-22               1             2               1          0  \n",
              "3  21-Aug-22              69            71               2          0  \n",
              "4  23-May-22              48            49               1          0  \n",
              "5  12-Sep-22              94            95               1          0  \n",
              "6  10-May-22              25            27               2          0  "
            ],
            "text/html": [
              "\n",
              "  <div id=\"df-76557ae4-e51a-4322-9977-030228e15034\">\n",
              "    <div class=\"colab-df-container\">\n",
              "      <div>\n",
              "<style scoped>\n",
              "    .dataframe tbody tr th:only-of-type {\n",
              "        vertical-align: middle;\n",
              "    }\n",
              "\n",
              "    .dataframe tbody tr th {\n",
              "        vertical-align: top;\n",
              "    }\n",
              "\n",
              "    .dataframe thead th {\n",
              "        text-align: right;\n",
              "    }\n",
              "</style>\n",
              "<table border=\"1\" class=\"dataframe\">\n",
              "  <thead>\n",
              "    <tr style=\"text-align: right;\">\n",
              "      <th></th>\n",
              "      <th>OEM</th>\n",
              "      <th>Model</th>\n",
              "      <th>Original Price</th>\n",
              "      <th>Vehicle Age</th>\n",
              "      <th>IDV</th>\n",
              "      <th>Policy Dt</th>\n",
              "      <th>Accident Dt</th>\n",
              "      <th>Report Dt</th>\n",
              "      <th>Policy_Accident</th>\n",
              "      <th>Policy_Report</th>\n",
              "      <th>Accident_Report</th>\n",
              "      <th>Prediction</th>\n",
              "    </tr>\n",
              "  </thead>\n",
              "  <tbody>\n",
              "    <tr>\n",
              "      <th>2</th>\n",
              "      <td>Hero</td>\n",
              "      <td>M4</td>\n",
              "      <td>100,000</td>\n",
              "      <td>3</td>\n",
              "      <td>61,413</td>\n",
              "      <td>30-Apr-22</td>\n",
              "      <td>1-May-22</td>\n",
              "      <td>2-May-22</td>\n",
              "      <td>1</td>\n",
              "      <td>2</td>\n",
              "      <td>1</td>\n",
              "      <td>0</td>\n",
              "    </tr>\n",
              "    <tr>\n",
              "      <th>3</th>\n",
              "      <td>Honda</td>\n",
              "      <td>M3</td>\n",
              "      <td>90,000</td>\n",
              "      <td>1</td>\n",
              "      <td>76,500</td>\n",
              "      <td>11-Jun-22</td>\n",
              "      <td>19-Aug-22</td>\n",
              "      <td>21-Aug-22</td>\n",
              "      <td>69</td>\n",
              "      <td>71</td>\n",
              "      <td>2</td>\n",
              "      <td>0</td>\n",
              "    </tr>\n",
              "    <tr>\n",
              "      <th>4</th>\n",
              "      <td>Honda</td>\n",
              "      <td>M2</td>\n",
              "      <td>72,000</td>\n",
              "      <td>3</td>\n",
              "      <td>44,217</td>\n",
              "      <td>4-Apr-22</td>\n",
              "      <td>22-May-22</td>\n",
              "      <td>23-May-22</td>\n",
              "      <td>48</td>\n",
              "      <td>49</td>\n",
              "      <td>1</td>\n",
              "      <td>0</td>\n",
              "    </tr>\n",
              "    <tr>\n",
              "      <th>5</th>\n",
              "      <td>TVS</td>\n",
              "      <td>M1</td>\n",
              "      <td>45,000</td>\n",
              "      <td>1</td>\n",
              "      <td>38,250</td>\n",
              "      <td>9-Jun-22</td>\n",
              "      <td>11-Sep-22</td>\n",
              "      <td>12-Sep-22</td>\n",
              "      <td>94</td>\n",
              "      <td>95</td>\n",
              "      <td>1</td>\n",
              "      <td>0</td>\n",
              "    </tr>\n",
              "    <tr>\n",
              "      <th>6</th>\n",
              "      <td>Honda</td>\n",
              "      <td>M3</td>\n",
              "      <td>90,000</td>\n",
              "      <td>1</td>\n",
              "      <td>76,500</td>\n",
              "      <td>13-Apr-22</td>\n",
              "      <td>8-May-22</td>\n",
              "      <td>10-May-22</td>\n",
              "      <td>25</td>\n",
              "      <td>27</td>\n",
              "      <td>2</td>\n",
              "      <td>0</td>\n",
              "    </tr>\n",
              "  </tbody>\n",
              "</table>\n",
              "</div>\n",
              "      <button class=\"colab-df-convert\" onclick=\"convertToInteractive('df-76557ae4-e51a-4322-9977-030228e15034')\"\n",
              "              title=\"Convert this dataframe to an interactive table.\"\n",
              "              style=\"display:none;\">\n",
              "        \n",
              "  <svg xmlns=\"http://www.w3.org/2000/svg\" height=\"24px\"viewBox=\"0 0 24 24\"\n",
              "       width=\"24px\">\n",
              "    <path d=\"M0 0h24v24H0V0z\" fill=\"none\"/>\n",
              "    <path d=\"M18.56 5.44l.94 2.06.94-2.06 2.06-.94-2.06-.94-.94-2.06-.94 2.06-2.06.94zm-11 1L8.5 8.5l.94-2.06 2.06-.94-2.06-.94L8.5 2.5l-.94 2.06-2.06.94zm10 10l.94 2.06.94-2.06 2.06-.94-2.06-.94-.94-2.06-.94 2.06-2.06.94z\"/><path d=\"M17.41 7.96l-1.37-1.37c-.4-.4-.92-.59-1.43-.59-.52 0-1.04.2-1.43.59L10.3 9.45l-7.72 7.72c-.78.78-.78 2.05 0 2.83L4 21.41c.39.39.9.59 1.41.59.51 0 1.02-.2 1.41-.59l7.78-7.78 2.81-2.81c.8-.78.8-2.07 0-2.86zM5.41 20L4 18.59l7.72-7.72 1.47 1.35L5.41 20z\"/>\n",
              "  </svg>\n",
              "      </button>\n",
              "      \n",
              "  <style>\n",
              "    .colab-df-container {\n",
              "      display:flex;\n",
              "      flex-wrap:wrap;\n",
              "      gap: 12px;\n",
              "    }\n",
              "\n",
              "    .colab-df-convert {\n",
              "      background-color: #E8F0FE;\n",
              "      border: none;\n",
              "      border-radius: 50%;\n",
              "      cursor: pointer;\n",
              "      display: none;\n",
              "      fill: #1967D2;\n",
              "      height: 32px;\n",
              "      padding: 0 0 0 0;\n",
              "      width: 32px;\n",
              "    }\n",
              "\n",
              "    .colab-df-convert:hover {\n",
              "      background-color: #E2EBFA;\n",
              "      box-shadow: 0px 1px 2px rgba(60, 64, 67, 0.3), 0px 1px 3px 1px rgba(60, 64, 67, 0.15);\n",
              "      fill: #174EA6;\n",
              "    }\n",
              "\n",
              "    [theme=dark] .colab-df-convert {\n",
              "      background-color: #3B4455;\n",
              "      fill: #D2E3FC;\n",
              "    }\n",
              "\n",
              "    [theme=dark] .colab-df-convert:hover {\n",
              "      background-color: #434B5C;\n",
              "      box-shadow: 0px 1px 3px 1px rgba(0, 0, 0, 0.15);\n",
              "      filter: drop-shadow(0px 1px 2px rgba(0, 0, 0, 0.3));\n",
              "      fill: #FFFFFF;\n",
              "    }\n",
              "  </style>\n",
              "\n",
              "      <script>\n",
              "        const buttonEl =\n",
              "          document.querySelector('#df-76557ae4-e51a-4322-9977-030228e15034 button.colab-df-convert');\n",
              "        buttonEl.style.display =\n",
              "          google.colab.kernel.accessAllowed ? 'block' : 'none';\n",
              "\n",
              "        async function convertToInteractive(key) {\n",
              "          const element = document.querySelector('#df-76557ae4-e51a-4322-9977-030228e15034');\n",
              "          const dataTable =\n",
              "            await google.colab.kernel.invokeFunction('convertToInteractive',\n",
              "                                                     [key], {});\n",
              "          if (!dataTable) return;\n",
              "\n",
              "          const docLinkHtml = 'Like what you see? Visit the ' +\n",
              "            '<a target=\"_blank\" href=https://colab.research.google.com/notebooks/data_table.ipynb>data table notebook</a>'\n",
              "            + ' to learn more about interactive tables.';\n",
              "          element.innerHTML = '';\n",
              "          dataTable['output_type'] = 'display_data';\n",
              "          await google.colab.output.renderOutput(dataTable, element);\n",
              "          const docLink = document.createElement('div');\n",
              "          docLink.innerHTML = docLinkHtml;\n",
              "          element.appendChild(docLink);\n",
              "        }\n",
              "      </script>\n",
              "    </div>\n",
              "  </div>\n",
              "  "
            ]
          },
          "metadata": {},
          "execution_count": 237
        }
      ]
    },
    {
      "cell_type": "code",
      "source": [
        "df2.Model = df2.Model.replace({'M1': 1,'M2': 2,'M3': 3,'M4': 4})\n",
        "df2.OEM = df2.OEM.replace({'Hero': 1,'Honda': 2,'TVS': 3})\n",
        "df2['Vehicle Age'] = df2['Vehicle Age'].astype(int)\n",
        "df2['Policy_Accident'] = df2['Policy_Accident'].astype(int)\n",
        "df2['Policy_Report'] = df2['Policy_Report'].astype(int)\n",
        "df2['Accident_Report'] = df2['Accident_Report'].astype(int)\n",
        "df2['Prediction'] = df2['Prediction'].astype(int)"
      ],
      "metadata": {
        "id": "nDg146at-pbI"
      },
      "execution_count": null,
      "outputs": []
    },
    {
      "cell_type": "code",
      "source": [
        "df2 = df2.drop(['Policy Dt','Accident Dt','Report Dt'],axis=1)"
      ],
      "metadata": {
        "id": "j-UMteQY_F59"
      },
      "execution_count": null,
      "outputs": []
    },
    {
      "cell_type": "code",
      "source": [
        "import re\n",
        "def Converting(str1):\n",
        "  result = re.sub(r\"[^\\d]\", \"\", str1)\n",
        "  return int(result)\n",
        "\n",
        "df2['Original Price'] = df2['Original Price'].apply(lambda x: Converting(x))\n",
        "df2['IDV'] = df2['IDV'].apply(lambda x: Converting(x))"
      ],
      "metadata": {
        "id": "L6WJPT5W-0vS"
      },
      "execution_count": null,
      "outputs": []
    },
    {
      "cell_type": "code",
      "source": [
        "df2.info()"
      ],
      "metadata": {
        "colab": {
          "base_uri": "https://localhost:8080/"
        },
        "id": "2ctj8nSc-zl_",
        "outputId": "d473f90b-01a4-44a4-ee05-63a6b1b55620"
      },
      "execution_count": null,
      "outputs": [
        {
          "output_type": "stream",
          "name": "stdout",
          "text": [
            "<class 'pandas.core.frame.DataFrame'>\n",
            "Int64Index: 19997 entries, 2 to 19998\n",
            "Data columns (total 9 columns):\n",
            " #   Column           Non-Null Count  Dtype\n",
            "---  ------           --------------  -----\n",
            " 0   OEM              19997 non-null  int64\n",
            " 1   Model            19997 non-null  int64\n",
            " 2   Original Price   19997 non-null  int64\n",
            " 3   Vehicle Age      19997 non-null  int64\n",
            " 4   IDV              19997 non-null  int64\n",
            " 5   Policy_Accident  19997 non-null  int64\n",
            " 6   Policy_Report    19997 non-null  int64\n",
            " 7   Accident_Report  19997 non-null  int64\n",
            " 8   Prediction       19997 non-null  int64\n",
            "dtypes: int64(9)\n",
            "memory usage: 1.5 MB\n"
          ]
        }
      ]
    },
    {
      "cell_type": "code",
      "source": [
        "X = df2.drop('Prediction',axis=1)\n",
        "Y = df2['Prediction']\n",
        "X_train, X_test, y_train, y_test = train_test_split(X, Y, test_size=0.2)\n",
        "print(\"Size of X Train:- \" + str(X_train.shape))\n",
        "print(\"Size of X Test:- \" + str(X_test.shape))\n",
        "print(\"Size of Y Train:- \" + str(y_train.shape))\n",
        "print(\"Size of Y Test:- \" + str(y_test.shape))\n",
        "reg_rf = RandomForestClassifier(max_depth=180,min_samples_split= 5,n_estimators= 152)\n",
        "reg_rf.fit(X_train, y_train)\n",
        "y_pred_1 = reg_rf.predict(X_test)\n",
        "print(metrics.classification_report(y_test, y_pred_1))"
      ],
      "metadata": {
        "colab": {
          "base_uri": "https://localhost:8080/"
        },
        "id": "Ecdsmi6-_Lhp",
        "outputId": "616419c0-7783-4022-e7c3-0de6c4dac47a"
      },
      "execution_count": null,
      "outputs": [
        {
          "output_type": "stream",
          "name": "stdout",
          "text": [
            "Size of X Train:- (15997, 8)\n",
            "Size of X Test:- (4000, 8)\n",
            "Size of Y Train:- (15997,)\n",
            "Size of Y Test:- (4000,)\n",
            "              precision    recall  f1-score   support\n",
            "\n",
            "           0       0.89      0.98      0.93      3545\n",
            "           1       0.07      0.01      0.02       455\n",
            "\n",
            "    accuracy                           0.87      4000\n",
            "   macro avg       0.48      0.50      0.47      4000\n",
            "weighted avg       0.79      0.87      0.83      4000\n",
            "\n"
          ]
        }
      ]
    },
    {
      "cell_type": "code",
      "source": [
        "with open('Inflaited.pkl', 'wb') as f:\n",
        "    pickle.dump(reg_rf, f)"
      ],
      "metadata": {
        "id": "EkbrrDseT4Br"
      },
      "execution_count": null,
      "outputs": []
    },
    {
      "cell_type": "markdown",
      "source": [
        "# Fraud Lingo\tPrediction\n"
      ],
      "metadata": {
        "id": "KgMFcyKk_lxj"
      }
    },
    {
      "cell_type": "code",
      "source": [
        "df3 = pd.read_csv('/content/Motor Claim Simulation - frauds.xlsx - Sheet1.csv')\n",
        "df3 = df3.drop(['Motor Claims Data ','Unnamed: 1','Unnamed: 2','Unnamed: 14','Unnamed: 15','Unnamed: 17','Unnamed: 18','Unnamed: 19','Unnamed: 20','Unnamed: 21','Unnamed: 22','Unnamed: 23','Unnamed: 24','Unnamed: 25'],axis=1)\n",
        "df3 = df3.rename(columns={'Unnamed: 3': 'OEM', 'Unnamed: 4': 'Model','Unnamed: 5': 'Original Price','Unnamed: 6': \n",
        "                       'Vehicle Age','Unnamed: 7': 'IDV','Unnamed: 8': 'Policy Dt','Unnamed: 9': 'Accident Dt','Unnamed: 10': 'Report Dt',\n",
        "                       'Unnamed: 11': 'Policy_Accident','Unnamed: 12': 'Policy_Report','Unnamed: 13': 'Accident_Report','Unnamed: 16': 'Prediction'})\n",
        "df3 = df3.drop(0)\n",
        "df3 = df3.drop(1)\n",
        "df3.Model = df3.Model.replace({'M1': 1,'M2': 2,'M3': 3,'M4': 4})\n",
        "df3.OEM = df3.OEM.replace({'Hero': 1,'Honda': 2,'TVS': 3})\n",
        "df3['Vehicle Age'] = df3['Vehicle Age'].astype(int)\n",
        "df3['Policy_Accident'] = df3['Policy_Accident'].astype(int)\n",
        "df3['Policy_Report'] = df3['Policy_Report'].astype(int)\n",
        "df3['Accident_Report'] = df3['Accident_Report'].astype(int)\n",
        "df3['Prediction'] = df3['Prediction'].astype(int)\n",
        "df3 = df3.drop(['Policy Dt','Accident Dt','Report Dt'],axis=1)\n",
        "import re\n",
        "def Converting(str1):\n",
        "  result = re.sub(r\"[^\\d]\", \"\", str1)\n",
        "  return int(result)\n",
        "\n",
        "df3['Original Price'] = df3['Original Price'].apply(lambda x: Converting(x))\n",
        "df3['IDV'] = df3['IDV'].apply(lambda x: Converting(x))"
      ],
      "metadata": {
        "id": "qWs5P28D_0xN"
      },
      "execution_count": null,
      "outputs": []
    },
    {
      "cell_type": "code",
      "source": [
        "df3.info()"
      ],
      "metadata": {
        "colab": {
          "base_uri": "https://localhost:8080/"
        },
        "id": "4TokHurFAUVf",
        "outputId": "7075c163-31bb-4cd9-f137-ec176bead2fb"
      },
      "execution_count": null,
      "outputs": [
        {
          "output_type": "stream",
          "name": "stdout",
          "text": [
            "<class 'pandas.core.frame.DataFrame'>\n",
            "Int64Index: 19997 entries, 2 to 19998\n",
            "Data columns (total 9 columns):\n",
            " #   Column           Non-Null Count  Dtype\n",
            "---  ------           --------------  -----\n",
            " 0   OEM              19997 non-null  int64\n",
            " 1   Model            19997 non-null  int64\n",
            " 2   Original Price   19997 non-null  int64\n",
            " 3   Vehicle Age      19997 non-null  int64\n",
            " 4   IDV              19997 non-null  int64\n",
            " 5   Policy_Accident  19997 non-null  int64\n",
            " 6   Policy_Report    19997 non-null  int64\n",
            " 7   Accident_Report  19997 non-null  int64\n",
            " 8   Prediction       19997 non-null  int64\n",
            "dtypes: int64(9)\n",
            "memory usage: 1.5 MB\n"
          ]
        }
      ]
    },
    {
      "cell_type": "code",
      "source": [
        "X = df3.drop('Prediction',axis=1)\n",
        "Y = df3['Prediction']\n",
        "X_train, X_test, y_train, y_test = train_test_split(X, Y, test_size=0.2)\n",
        "print(\"Size of X Train:- \" + str(X_train.shape))\n",
        "print(\"Size of X Test:- \" + str(X_test.shape))\n",
        "print(\"Size of Y Train:- \" + str(y_train.shape))\n",
        "print(\"Size of Y Test:- \" + str(y_test.shape))\n",
        "reg_rf = RandomForestClassifier(max_depth=180,min_samples_split= 5,n_estimators= 152)\n",
        "reg_rf.fit(X_train, y_train)\n",
        "y_pred_1 = reg_rf.predict(X_test)\n",
        "print(metrics.classification_report(y_test, y_pred_1))"
      ],
      "metadata": {
        "colab": {
          "base_uri": "https://localhost:8080/"
        },
        "id": "rnTnvPTfAYQh",
        "outputId": "4d335c87-0900-4fd3-9bf9-1c5d8c0f72e8"
      },
      "execution_count": null,
      "outputs": [
        {
          "output_type": "stream",
          "name": "stdout",
          "text": [
            "Size of X Train:- (15997, 8)\n",
            "Size of X Test:- (4000, 8)\n",
            "Size of Y Train:- (15997,)\n",
            "Size of Y Test:- (4000,)\n",
            "              precision    recall  f1-score   support\n",
            "\n",
            "           0       0.95      1.00      0.97      3814\n",
            "           1       0.00      0.00      0.00       186\n",
            "\n",
            "    accuracy                           0.95      4000\n",
            "   macro avg       0.48      0.50      0.49      4000\n",
            "weighted avg       0.91      0.95      0.93      4000\n",
            "\n"
          ]
        }
      ]
    },
    {
      "cell_type": "code",
      "source": [
        "with open('FraudLingo.pkl', 'wb') as f:\n",
        "    pickle.dump(reg_rf, f)"
      ],
      "metadata": {
        "id": "YkYGhbEdSWE0"
      },
      "execution_count": null,
      "outputs": []
    },
    {
      "cell_type": "markdown",
      "source": [
        "# Inconsistency Prediction"
      ],
      "metadata": {
        "id": "cHvgdbQIAcU8"
      }
    },
    {
      "cell_type": "code",
      "source": [
        "df4 = pd.read_csv('/content/Motor Claim Simulation - frauds.xlsx - Sheet1.csv')\n",
        "df4 = df4.drop(['Motor Claims Data ','Unnamed: 1','Unnamed: 2','Unnamed: 14','Unnamed: 15','Unnamed: 16','Unnamed: 18','Unnamed: 19','Unnamed: 20','Unnamed: 21','Unnamed: 22','Unnamed: 23','Unnamed: 24','Unnamed: 25'],axis=1)\n",
        "df4 = df4.rename(columns={'Unnamed: 3': 'OEM', 'Unnamed: 4': 'Model','Unnamed: 5': 'Original Price','Unnamed: 6': \n",
        "                       'Vehicle Age','Unnamed: 7': 'IDV','Unnamed: 8': 'Policy Dt','Unnamed: 9': 'Accident Dt','Unnamed: 10': 'Report Dt',\n",
        "                       'Unnamed: 11': 'Policy_Accident','Unnamed: 12': 'Policy_Report','Unnamed: 13': 'Accident_Report','Unnamed: 17': 'Prediction'})\n",
        "df4 = df4.drop(0)\n",
        "df4 = df4.drop(1)\n",
        "df4.Model = df4.Model.replace({'M1': 1,'M2': 2,'M3': 3,'M4': 4})\n",
        "df4.OEM = df4.OEM.replace({'Hero': 1,'Honda': 2,'TVS': 3})\n",
        "df4['Vehicle Age'] = df4['Vehicle Age'].astype(int)\n",
        "df4['Policy_Accident'] = df4['Policy_Accident'].astype(int)\n",
        "df4['Policy_Report'] = df4['Policy_Report'].astype(int)\n",
        "df4['Accident_Report'] = df4['Accident_Report'].astype(int)\n",
        "df4['Prediction'] = df4['Prediction'].astype(int)\n",
        "df4 = df4.drop(['Policy Dt','Accident Dt','Report Dt'],axis=1)\n",
        "import re\n",
        "def Converting(str1):\n",
        "  result = re.sub(r\"[^\\d]\", \"\", str1)\n",
        "  return int(result)\n",
        "\n",
        "df4['Original Price'] = df4['Original Price'].apply(lambda x: Converting(x))\n",
        "df4['IDV'] = df4['IDV'].apply(lambda x: Converting(x))"
      ],
      "metadata": {
        "id": "RoLr7BwvAgs7"
      },
      "execution_count": null,
      "outputs": []
    },
    {
      "cell_type": "code",
      "source": [
        "df4.info()"
      ],
      "metadata": {
        "colab": {
          "base_uri": "https://localhost:8080/"
        },
        "id": "2nX58_XhAwxz",
        "outputId": "e10be0ee-c89b-4e94-b7e7-6e20b1c7b109"
      },
      "execution_count": null,
      "outputs": [
        {
          "output_type": "stream",
          "name": "stdout",
          "text": [
            "<class 'pandas.core.frame.DataFrame'>\n",
            "Int64Index: 19997 entries, 2 to 19998\n",
            "Data columns (total 9 columns):\n",
            " #   Column           Non-Null Count  Dtype\n",
            "---  ------           --------------  -----\n",
            " 0   OEM              19997 non-null  int64\n",
            " 1   Model            19997 non-null  int64\n",
            " 2   Original Price   19997 non-null  int64\n",
            " 3   Vehicle Age      19997 non-null  int64\n",
            " 4   IDV              19997 non-null  int64\n",
            " 5   Policy_Accident  19997 non-null  int64\n",
            " 6   Policy_Report    19997 non-null  int64\n",
            " 7   Accident_Report  19997 non-null  int64\n",
            " 8   Prediction       19997 non-null  int64\n",
            "dtypes: int64(9)\n",
            "memory usage: 1.5 MB\n"
          ]
        }
      ]
    },
    {
      "cell_type": "code",
      "source": [
        "X = df4.drop('Prediction',axis=1)\n",
        "Y = df4['Prediction']\n",
        "X_train, X_test, y_train, y_test = train_test_split(X, Y, test_size=0.2)\n",
        "print(\"Size of X Train:- \" + str(X_train.shape))\n",
        "print(\"Size of X Test:- \" + str(X_test.shape))\n",
        "print(\"Size of Y Train:- \" + str(y_train.shape))\n",
        "print(\"Size of Y Test:- \" + str(y_test.shape))\n",
        "reg_rf = RandomForestClassifier(max_depth=180,min_samples_split= 5,n_estimators= 152)\n",
        "reg_rf.fit(X_train, y_train)\n",
        "y_pred_1 = reg_rf.predict(X_test)\n",
        "print(metrics.classification_report(y_test, y_pred_1))"
      ],
      "metadata": {
        "colab": {
          "base_uri": "https://localhost:8080/"
        },
        "id": "1AjjYax4A3Ft",
        "outputId": "c531bda2-330f-4a10-d77b-c89806213284"
      },
      "execution_count": null,
      "outputs": [
        {
          "output_type": "stream",
          "name": "stdout",
          "text": [
            "Size of X Train:- (15997, 8)\n",
            "Size of X Test:- (4000, 8)\n",
            "Size of Y Train:- (15997,)\n",
            "Size of Y Test:- (4000,)\n",
            "              precision    recall  f1-score   support\n",
            "\n",
            "           0       0.97      1.00      0.99      3892\n",
            "           1       0.11      0.01      0.02       108\n",
            "\n",
            "    accuracy                           0.97      4000\n",
            "   macro avg       0.54      0.50      0.50      4000\n",
            "weighted avg       0.95      0.97      0.96      4000\n",
            "\n"
          ]
        }
      ]
    },
    {
      "cell_type": "markdown",
      "source": [
        "# Claims History Prediction"
      ],
      "metadata": {
        "id": "2yINl4a7EV_2"
      }
    },
    {
      "cell_type": "code",
      "source": [
        "import pandas as pd\n",
        "import re\n",
        "\n",
        "df5 = pd.read_csv('/content/Motor Claim Simulation - frauds.xlsx - Sheet1.csv')\n",
        "df5 = df5.drop(['Motor Claims Data ','Unnamed: 1','Unnamed: 2','Unnamed: 14','Unnamed: 15','Unnamed: 16','Unnamed: 17','Unnamed: 19','Unnamed: 20','Unnamed: 21','Unnamed: 22','Unnamed: 23','Unnamed: 24','Unnamed: 25'],axis=1)\n",
        "df5 = df5.rename(columns={'Unnamed: 3': 'OEM', 'Unnamed: 4': 'Model','Unnamed: 5': 'Original Price','Unnamed: 6': \n",
        "                       'Vehicle Age','Unnamed: 7': 'IDV','Unnamed: 8': 'Policy Dt','Unnamed: 9': 'Accident Dt','Unnamed: 10': 'Report Dt',\n",
        "                       'Unnamed: 11': 'Policy_Accident','Unnamed: 12': 'Policy_Report','Unnamed: 13': 'Accident_Report','Unnamed: 18': 'Prediction'})\n",
        "df5 = df5.drop(0)\n",
        "df5 = df5.drop(1)\n",
        "df5.Model = df5.Model.replace({'M1': 1,'M2': 2,'M3': 3,'M4': 4})\n",
        "df5.OEM = df5.OEM.replace({'Hero': 1,'Honda': 2,'TVS': 3})\n",
        "df5['Vehicle Age'] = df5['Vehicle Age'].astype(int)\n",
        "df5['Policy_Accident'] = df5['Policy_Accident'].astype(int)\n",
        "df5['Policy_Report'] = df5['Policy_Report'].astype(int)\n",
        "df5['Accident_Report'] = df5['Accident_Report'].astype(int)\n",
        "df5['Prediction'] = df5['Prediction'].astype(int)\n",
        "df5 = df5.drop(['Policy Dt','Accident Dt','Report Dt'],axis=1)\n",
        "\n",
        "def Converting(str1):\n",
        "    result = re.sub(r\"[^\\d]\", \"\", str1)\n",
        "    return int(result)\n",
        "\n",
        "df5['Original Price'] = df5['Original Price'].apply(lambda x: Converting(x))\n",
        "df5['IDV'] = df5['IDV'].apply(lambda x: Converting(x))"
      ],
      "metadata": {
        "id": "D5wm37z7EahY"
      },
      "execution_count": null,
      "outputs": []
    },
    {
      "cell_type": "code",
      "source": [
        "df5.info()"
      ],
      "metadata": {
        "colab": {
          "base_uri": "https://localhost:8080/"
        },
        "id": "XVXpvM-dE3BX",
        "outputId": "7c034955-a3b6-44f6-cde0-e682f711c4ee"
      },
      "execution_count": null,
      "outputs": [
        {
          "output_type": "stream",
          "name": "stdout",
          "text": [
            "<class 'pandas.core.frame.DataFrame'>\n",
            "Int64Index: 19997 entries, 2 to 19998\n",
            "Data columns (total 9 columns):\n",
            " #   Column           Non-Null Count  Dtype\n",
            "---  ------           --------------  -----\n",
            " 0   OEM              19997 non-null  int64\n",
            " 1   Model            19997 non-null  int64\n",
            " 2   Original Price   19997 non-null  int64\n",
            " 3   Vehicle Age      19997 non-null  int64\n",
            " 4   IDV              19997 non-null  int64\n",
            " 5   Policy_Accident  19997 non-null  int64\n",
            " 6   Policy_Report    19997 non-null  int64\n",
            " 7   Accident_Report  19997 non-null  int64\n",
            " 8   Prediction       19997 non-null  int64\n",
            "dtypes: int64(9)\n",
            "memory usage: 1.5 MB\n"
          ]
        }
      ]
    },
    {
      "cell_type": "code",
      "source": [
        "X = df5.drop('Prediction',axis=1)\n",
        "Y = df5['Prediction']\n",
        "X_train, X_test, y_train, y_test = train_test_split(X, Y, test_size=0.2)\n",
        "print(\"Size of X Train:- \" + str(X_train.shape))\n",
        "print(\"Size of X Test:- \" + str(X_test.shape))\n",
        "print(\"Size of Y Train:- \" + str(y_train.shape))\n",
        "print(\"Size of Y Test:- \" + str(y_test.shape))\n",
        "reg_rf = RandomForestClassifier(max_depth=180,min_samples_split= 5,n_estimators= 152)\n",
        "reg_rf.fit(X_train, y_train)\n",
        "y_pred_1 = reg_rf.predict(X_test)\n",
        "print(metrics.classification_report(y_test, y_pred_1))"
      ],
      "metadata": {
        "colab": {
          "base_uri": "https://localhost:8080/"
        },
        "id": "tuqPyS9rE_rg",
        "outputId": "57ddb9fe-a1c4-4eb1-f8c0-0e8b2c44864d"
      },
      "execution_count": null,
      "outputs": [
        {
          "output_type": "stream",
          "name": "stdout",
          "text": [
            "Size of X Train:- (15997, 8)\n",
            "Size of X Test:- (4000, 8)\n",
            "Size of Y Train:- (15997,)\n",
            "Size of Y Test:- (4000,)\n",
            "              precision    recall  f1-score   support\n",
            "\n",
            "           0       0.94      0.99      0.97      3778\n",
            "           1       0.10      0.01      0.02       222\n",
            "\n",
            "    accuracy                           0.94      4000\n",
            "   macro avg       0.52      0.50      0.49      4000\n",
            "weighted avg       0.90      0.94      0.92      4000\n",
            "\n"
          ]
        }
      ]
    },
    {
      "cell_type": "code",
      "source": [
        "with open('ClaimsH.pkl', 'wb') as f:\n",
        "    pickle.dump(reg_rf, f)"
      ],
      "metadata": {
        "id": "4peH_INSSatK"
      },
      "execution_count": null,
      "outputs": []
    },
    {
      "cell_type": "markdown",
      "source": [
        "# CIBIL Score Prediction"
      ],
      "metadata": {
        "id": "5-WANrSwFCxJ"
      }
    },
    {
      "cell_type": "code",
      "source": [
        "import pandas as pd\n",
        "import re\n",
        "\n",
        "df6 = pd.read_csv('/content/Motor Claim Simulation - frauds.xlsx - Sheet1.csv')\n",
        "df6 = df6.drop(['Motor Claims Data ','Unnamed: 1','Unnamed: 2','Unnamed: 14','Unnamed: 15','Unnamed: 16','Unnamed: 18','Unnamed: 17','Unnamed: 20','Unnamed: 21','Unnamed: 22','Unnamed: 23','Unnamed: 24','Unnamed: 25'],axis=1)\n",
        "df6 = df6.rename(columns={'Unnamed: 3': 'OEM', 'Unnamed: 4': 'Model','Unnamed: 5': 'Original Price','Unnamed: 6': \n",
        "                       'Vehicle Age','Unnamed: 7': 'IDV','Unnamed: 8': 'Policy Dt','Unnamed: 9': 'Accident Dt','Unnamed: 10': 'Report Dt',\n",
        "                       'Unnamed: 11': 'Policy_Accident','Unnamed: 12': 'Policy_Report','Unnamed: 13': 'Accident_Report','Unnamed: 19': 'Prediction'})\n",
        "df6 = df6.drop(0)\n",
        "df6 = df6.drop(1)\n",
        "df6.Model = df6.Model.replace({'M1': 1,'M2': 2,'M3': 3,'M4': 4})\n",
        "df6.OEM = df6.OEM.replace({'Hero': 1,'Honda': 2,'TVS': 3})\n",
        "df6['Vehicle Age'] = df6['Vehicle Age'].astype(int)\n",
        "df6['Policy_Accident'] = df6['Policy_Accident'].astype(int)\n",
        "df6['Policy_Report'] = df6['Policy_Report'].astype(int)\n",
        "df6['Accident_Report'] = df6['Accident_Report'].astype(int)\n",
        "df6['Prediction'] = df6['Prediction'].astype(int)\n",
        "df6 = df6.drop(['Policy Dt','Accident Dt','Report Dt'],axis=1)\n",
        "\n",
        "def Converting(str1):\n",
        "    result = re.sub(r\"[^\\d]\", \"\", str1)\n",
        "    return int(result)\n",
        "\n",
        "df6['Original Price'] = df6['Original Price'].apply(lambda x: Converting(x))\n",
        "df6['IDV'] = df6['IDV'].apply(lambda x: Converting(x))\n"
      ],
      "metadata": {
        "id": "aZbWAaT_FHLd"
      },
      "execution_count": null,
      "outputs": []
    },
    {
      "cell_type": "code",
      "source": [
        "df6.info()"
      ],
      "metadata": {
        "colab": {
          "base_uri": "https://localhost:8080/"
        },
        "id": "q5nqV4ntFGOO",
        "outputId": "3c82e99c-5ba2-4464-b924-f636d168089c"
      },
      "execution_count": null,
      "outputs": [
        {
          "output_type": "stream",
          "name": "stdout",
          "text": [
            "<class 'pandas.core.frame.DataFrame'>\n",
            "Int64Index: 19997 entries, 2 to 19998\n",
            "Data columns (total 9 columns):\n",
            " #   Column           Non-Null Count  Dtype\n",
            "---  ------           --------------  -----\n",
            " 0   OEM              19997 non-null  int64\n",
            " 1   Model            19997 non-null  int64\n",
            " 2   Original Price   19997 non-null  int64\n",
            " 3   Vehicle Age      19997 non-null  int64\n",
            " 4   IDV              19997 non-null  int64\n",
            " 5   Policy_Accident  19997 non-null  int64\n",
            " 6   Policy_Report    19997 non-null  int64\n",
            " 7   Accident_Report  19997 non-null  int64\n",
            " 8   Prediction       19997 non-null  int64\n",
            "dtypes: int64(9)\n",
            "memory usage: 1.5 MB\n"
          ]
        }
      ]
    },
    {
      "cell_type": "code",
      "source": [
        "X = df6.drop('Prediction',axis=1)\n",
        "Y = df6['Prediction']\n",
        "X_train, X_test, y_train, y_test = train_test_split(X, Y, test_size=0.2)\n",
        "print(\"Size of X Train:- \" + str(X_train.shape))\n",
        "print(\"Size of X Test:- \" + str(X_test.shape))\n",
        "print(\"Size of Y Train:- \" + str(y_train.shape))\n",
        "print(\"Size of Y Test:- \" + str(y_test.shape))\n",
        "reg_rf = RandomForestClassifier(max_depth=180,min_samples_split= 5,n_estimators= 152)\n",
        "reg_rf.fit(X_train, y_train)\n",
        "y_pred_1 = reg_rf.predict(X_test)\n",
        "print(metrics.classification_report(y_test, y_pred_1))"
      ],
      "metadata": {
        "colab": {
          "base_uri": "https://localhost:8080/"
        },
        "id": "D6z84RnZFEU3",
        "outputId": "96447d5a-10d6-44fe-ac6b-c56adea4ffd5"
      },
      "execution_count": null,
      "outputs": [
        {
          "output_type": "stream",
          "name": "stdout",
          "text": [
            "Size of X Train:- (15997, 8)\n",
            "Size of X Test:- (4000, 8)\n",
            "Size of Y Train:- (15997,)\n",
            "Size of Y Test:- (4000,)\n",
            "              precision    recall  f1-score   support\n",
            "\n",
            "           0       0.95      1.00      0.97      3803\n",
            "           1       0.11      0.01      0.02       197\n",
            "\n",
            "    accuracy                           0.95      4000\n",
            "   macro avg       0.53      0.50      0.50      4000\n",
            "weighted avg       0.91      0.95      0.93      4000\n",
            "\n"
          ]
        }
      ]
    },
    {
      "cell_type": "code",
      "source": [
        "with open('cibil.pkl', 'wb') as f:\n",
        "    pickle.dump(reg_rf, f)"
      ],
      "metadata": {
        "id": "Yuc-fWvKSfug"
      },
      "execution_count": null,
      "outputs": []
    },
    {
      "cell_type": "markdown",
      "source": [
        "# Intermediary Prediction"
      ],
      "metadata": {
        "id": "7IV6rQ5vFZLS"
      }
    },
    {
      "cell_type": "code",
      "source": [
        "import pandas as pd\n",
        "import re\n",
        "\n",
        "df7 = pd.read_csv('/content/Motor Claim Simulation - frauds.xlsx - Sheet1.csv')\n",
        "df7 = df7.drop(['Motor Claims Data ','Unnamed: 1','Unnamed: 2','Unnamed: 14','Unnamed: 15','Unnamed: 16','Unnamed: 18','Unnamed: 19','Unnamed: 17','Unnamed: 21','Unnamed: 22','Unnamed: 23','Unnamed: 24','Unnamed: 25'],axis=1)\n",
        "df7 = df7.rename(columns={'Unnamed: 3': 'OEM', 'Unnamed: 4': 'Model','Unnamed: 5': 'Original Price','Unnamed: 6': \n",
        "                       'Vehicle Age','Unnamed: 7': 'IDV','Unnamed: 8': 'Policy Dt','Unnamed: 9': 'Accident Dt','Unnamed: 10': 'Report Dt',\n",
        "                       'Unnamed: 11': 'Policy_Accident','Unnamed: 12': 'Policy_Report','Unnamed: 13': 'Accident_Report','Unnamed: 20': 'Prediction'})\n",
        "df7 = df7.drop(0)\n",
        "df7 = df7.drop(1)\n",
        "df7.Model = df7.Model.replace({'M1': 1,'M2': 2,'M3': 3,'M4': 4})\n",
        "df7.OEM = df7.OEM.replace({'Hero': 1,'Honda': 2,'TVS': 3})\n",
        "df7['Vehicle Age'] = df7['Vehicle Age'].astype(int)\n",
        "df7['Policy_Accident'] = df7['Policy_Accident'].astype(int)\n",
        "df7['Policy_Report'] = df7['Policy_Report'].astype(int)\n",
        "df7['Accident_Report'] = df7['Accident_Report'].astype(int)\n",
        "df7['Prediction'] = df7['Prediction'].astype(int)\n",
        "df7 = df7.drop(['Policy Dt','Accident Dt','Report Dt'],axis=1)\n",
        "\n",
        "def Converting(str1):\n",
        "    result = re.sub(r\"[^\\d]\", \"\", str1)\n",
        "    return int(result)\n",
        "\n",
        "df7['Original Price'] = df7['Original Price'].apply(lambda x: Converting(x))\n",
        "df7['IDV'] = df7['IDV'].apply(lambda x: Converting(x))\n"
      ],
      "metadata": {
        "id": "XsDKVpguFnsv"
      },
      "execution_count": null,
      "outputs": []
    },
    {
      "cell_type": "code",
      "source": [
        "df7.info()"
      ],
      "metadata": {
        "colab": {
          "base_uri": "https://localhost:8080/"
        },
        "id": "QBc4AJpCFmmq",
        "outputId": "884e3a2d-8ad7-46eb-a4be-555b38ec4643"
      },
      "execution_count": null,
      "outputs": [
        {
          "output_type": "stream",
          "name": "stdout",
          "text": [
            "<class 'pandas.core.frame.DataFrame'>\n",
            "Int64Index: 19997 entries, 2 to 19998\n",
            "Data columns (total 9 columns):\n",
            " #   Column           Non-Null Count  Dtype\n",
            "---  ------           --------------  -----\n",
            " 0   OEM              19997 non-null  int64\n",
            " 1   Model            19997 non-null  int64\n",
            " 2   Original Price   19997 non-null  int64\n",
            " 3   Vehicle Age      19997 non-null  int64\n",
            " 4   IDV              19997 non-null  int64\n",
            " 5   Policy_Accident  19997 non-null  int64\n",
            " 6   Policy_Report    19997 non-null  int64\n",
            " 7   Accident_Report  19997 non-null  int64\n",
            " 8   Prediction       19997 non-null  int64\n",
            "dtypes: int64(9)\n",
            "memory usage: 1.5 MB\n"
          ]
        }
      ]
    },
    {
      "cell_type": "code",
      "source": [
        "X = df7.drop('Prediction',axis=1)\n",
        "Y = df7['Prediction']\n",
        "X_train, X_test, y_train, y_test = train_test_split(X, Y, test_size=0.2)\n",
        "print(\"Size of X Train:- \" + str(X_train.shape))\n",
        "print(\"Size of X Test:- \" + str(X_test.shape))\n",
        "print(\"Size of Y Train:- \" + str(y_train.shape))\n",
        "print(\"Size of Y Test:- \" + str(y_test.shape))\n",
        "reg_rf = RandomForestClassifier(max_depth=180,min_samples_split= 5,n_estimators= 152)\n",
        "reg_rf.fit(X_train, y_train)\n",
        "y_pred_1 = reg_rf.predict(X_test)\n",
        "print(metrics.classification_report(y_test, y_pred_1))"
      ],
      "metadata": {
        "colab": {
          "base_uri": "https://localhost:8080/"
        },
        "id": "y0Qtj5q1FeBJ",
        "outputId": "093b2696-fd27-4c1b-8951-f56407ff3e76"
      },
      "execution_count": null,
      "outputs": [
        {
          "output_type": "stream",
          "name": "stdout",
          "text": [
            "Size of X Train:- (15997, 8)\n",
            "Size of X Test:- (4000, 8)\n",
            "Size of Y Train:- (15997,)\n",
            "Size of Y Test:- (4000,)\n",
            "              precision    recall  f1-score   support\n",
            "\n",
            "           0       0.90      0.99      0.94      3594\n",
            "           1       0.13      0.02      0.03       406\n",
            "\n",
            "    accuracy                           0.89      4000\n",
            "   macro avg       0.51      0.50      0.49      4000\n",
            "weighted avg       0.82      0.89      0.85      4000\n",
            "\n"
          ]
        }
      ]
    },
    {
      "cell_type": "code",
      "source": [
        "with open('Interprox.pkl', 'wb') as f:\n",
        "    pickle.dump(reg_rf, f)"
      ],
      "metadata": {
        "id": "IWD8TnhISil3"
      },
      "execution_count": null,
      "outputs": []
    },
    {
      "cell_type": "markdown",
      "source": [
        "# Close Proximity Prediction"
      ],
      "metadata": {
        "id": "JdUca3y_FxV7"
      }
    },
    {
      "cell_type": "code",
      "source": [
        "import pandas as pd\n",
        "import re\n",
        "\n",
        "df8 = pd.read_csv('/content/Motor Claim Simulation - frauds.xlsx - Sheet1.csv')\n",
        "df8 = df8.drop(['Motor Claims Data ','Unnamed: 1','Unnamed: 2','Unnamed: 14','Unnamed: 15','Unnamed: 16','Unnamed: 18','Unnamed: 19','Unnamed: 20','Unnamed: 17','Unnamed: 22','Unnamed: 23','Unnamed: 24','Unnamed: 25'],axis=1)\n",
        "df8 = df8.rename(columns={'Unnamed: 3': 'OEM', 'Unnamed: 4': 'Model','Unnamed: 5': 'Original Price','Unnamed: 6': \n",
        "                       'Vehicle Age','Unnamed: 7': 'IDV','Unnamed: 8': 'Policy Dt','Unnamed: 9': 'Accident Dt','Unnamed: 10': 'Report Dt',\n",
        "                       'Unnamed: 11': 'Policy_Accident','Unnamed: 12': 'Policy_Report','Unnamed: 13': 'Accident_Report','Unnamed: 21': 'Prediction'})\n",
        "df8 = df8.drop(0)\n",
        "df8 = df8.drop(1)\n",
        "df8.Model = df8.Model.replace({'M1': 1,'M2': 2,'M3': 3,'M4': 4})\n",
        "df8.OEM = df8.OEM.replace({'Hero': 1,'Honda': 2,'TVS': 3})\n",
        "df8['Vehicle Age'] = df8['Vehicle Age'].astype(int)\n",
        "df8['Policy_Accident'] = df8['Policy_Accident'].astype(int)\n",
        "df8['Policy_Report'] = df8['Policy_Report'].astype(int)\n",
        "df8['Accident_Report'] = df8['Accident_Report'].astype(int)\n",
        "df8['Prediction'] = df8['Prediction'].astype(int)\n",
        "df8 = df8.drop(['Policy Dt','Accident Dt','Report Dt'],axis=1)\n",
        "\n",
        "def Converting(str1):\n",
        "    result = re.sub(r\"[^\\d]\", \"\", str1)\n",
        "    return int(result)\n",
        "\n",
        "df8['Original Price'] = df8['Original Price'].apply(lambda x: Converting(x))\n",
        "df8['IDV'] = df8['IDV'].apply(lambda x: Converting(x))"
      ],
      "metadata": {
        "id": "PkhQIkPWF5OV"
      },
      "execution_count": null,
      "outputs": []
    },
    {
      "cell_type": "code",
      "source": [
        "df8.info()"
      ],
      "metadata": {
        "colab": {
          "base_uri": "https://localhost:8080/"
        },
        "id": "RimmRq-rF35-",
        "outputId": "2dc979a9-6ff8-45af-cce5-d7623e4b568c"
      },
      "execution_count": null,
      "outputs": [
        {
          "output_type": "stream",
          "name": "stdout",
          "text": [
            "<class 'pandas.core.frame.DataFrame'>\n",
            "Int64Index: 19997 entries, 2 to 19998\n",
            "Data columns (total 9 columns):\n",
            " #   Column           Non-Null Count  Dtype\n",
            "---  ------           --------------  -----\n",
            " 0   OEM              19997 non-null  int64\n",
            " 1   Model            19997 non-null  int64\n",
            " 2   Original Price   19997 non-null  int64\n",
            " 3   Vehicle Age      19997 non-null  int64\n",
            " 4   IDV              19997 non-null  int64\n",
            " 5   Policy_Accident  19997 non-null  int64\n",
            " 6   Policy_Report    19997 non-null  int64\n",
            " 7   Accident_Report  19997 non-null  int64\n",
            " 8   Prediction       19997 non-null  int64\n",
            "dtypes: int64(9)\n",
            "memory usage: 1.5 MB\n"
          ]
        }
      ]
    },
    {
      "cell_type": "code",
      "source": [
        "X = df8.drop('Prediction',axis=1)\n",
        "Y = df8['Prediction']\n",
        "X_train, X_test, y_train, y_test = train_test_split(X, Y, test_size=0.2)\n",
        "print(\"Size of X Train:- \" + str(X_train.shape))\n",
        "print(\"Size of X Test:- \" + str(X_test.shape))\n",
        "print(\"Size of Y Train:- \" + str(y_train.shape))\n",
        "print(\"Size of Y Test:- \" + str(y_test.shape))\n",
        "reg_rf = RandomForestClassifier(max_depth=180,min_samples_split= 5,n_estimators= 152)\n",
        "reg_rf.fit(X_train, y_train)\n",
        "y_pred_1 = reg_rf.predict(X_test)\n",
        "print(metrics.classification_report(y_test, y_pred_1))"
      ],
      "metadata": {
        "colab": {
          "base_uri": "https://localhost:8080/"
        },
        "id": "sq9zCaY5F1Cl",
        "outputId": "71374826-d0b2-4cbc-96ce-0752939d5051"
      },
      "execution_count": null,
      "outputs": [
        {
          "output_type": "stream",
          "name": "stdout",
          "text": [
            "Size of X Train:- (15997, 8)\n",
            "Size of X Test:- (4000, 8)\n",
            "Size of Y Train:- (15997,)\n",
            "Size of Y Test:- (4000,)\n",
            "              precision    recall  f1-score   support\n",
            "\n",
            "           0       1.00      1.00      1.00      3700\n",
            "           1       1.00      1.00      1.00       300\n",
            "\n",
            "    accuracy                           1.00      4000\n",
            "   macro avg       1.00      1.00      1.00      4000\n",
            "weighted avg       1.00      1.00      1.00      4000\n",
            "\n"
          ]
        }
      ]
    },
    {
      "cell_type": "code",
      "source": [
        "with open('cibil.pkl', 'wb') as f:\n",
        "    pickle.dump(reg_rf, f)"
      ],
      "metadata": {
        "id": "sHrjBUo6Tfm0"
      },
      "execution_count": null,
      "outputs": []
    },
    {
      "cell_type": "markdown",
      "source": [
        "# Market Roll Over Prediction"
      ],
      "metadata": {
        "id": "SwXGxSH_GIRF"
      }
    },
    {
      "cell_type": "code",
      "source": [
        "import pandas as pd\n",
        "import re\n",
        "\n",
        "df9 = pd.read_csv('/content/Motor Claim Simulation - frauds.xlsx - Sheet1.csv')\n",
        "df9 = df9.drop(['Motor Claims Data ','Unnamed: 1','Unnamed: 2','Unnamed: 14','Unnamed: 15','Unnamed: 16','Unnamed: 18','Unnamed: 19','Unnamed: 20','Unnamed: 21','Unnamed: 17','Unnamed: 23','Unnamed: 24','Unnamed: 25'],axis=1)\n",
        "df9 = df9.rename(columns={'Unnamed: 3': 'OEM', 'Unnamed: 4': 'Model','Unnamed: 5': 'Original Price','Unnamed: 6': \n",
        "                       'Vehicle Age','Unnamed: 7': 'IDV','Unnamed: 8': 'Policy Dt','Unnamed: 9': 'Accident Dt','Unnamed: 10': 'Report Dt',\n",
        "                       'Unnamed: 11': 'Policy_Accident','Unnamed: 12': 'Policy_Report','Unnamed: 13': 'Accident_Report','Unnamed: 22': 'Prediction'})\n",
        "df9 = df9.drop(0)\n",
        "df9 = df9.drop(1)\n",
        "df9.Model = df9.Model.replace({'M1': 1,'M2': 2,'M3': 3,'M4': 4})\n",
        "df9.OEM = df9.OEM.replace({'Hero': 1,'Honda': 2,'TVS': 3})\n",
        "df9['Vehicle Age'] = df9['Vehicle Age'].astype(int)\n",
        "df9['Policy_Accident'] = df9['Policy_Accident'].astype(int)\n",
        "df9['Policy_Report'] = df9['Policy_Report'].astype(int)\n",
        "df9['Accident_Report'] = df9['Accident_Report'].astype(int)\n",
        "df9['Prediction'] = df9['Prediction'].astype(int)\n",
        "df9 = df9.drop(['Policy Dt','Accident Dt','Report Dt'],axis=1)\n",
        "\n",
        "def Converting(str1):\n",
        "    result = re.sub(r\"[^\\d]\", \"\", str1)\n",
        "    return int(result)\n",
        "\n",
        "df9['Original Price'] = df9['Original Price'].apply(lambda x: Converting(x))\n",
        "df9['IDV'] = df9['IDV'].apply(lambda x: Converting(x))\n"
      ],
      "metadata": {
        "id": "uPh5NhXrGOIl"
      },
      "execution_count": null,
      "outputs": []
    },
    {
      "cell_type": "code",
      "source": [
        "df9.info()"
      ],
      "metadata": {
        "colab": {
          "base_uri": "https://localhost:8080/"
        },
        "id": "pWBWV5YrGJ1E",
        "outputId": "044918fe-fe2f-470d-b9b2-175ddcabc31e"
      },
      "execution_count": null,
      "outputs": [
        {
          "output_type": "stream",
          "name": "stdout",
          "text": [
            "<class 'pandas.core.frame.DataFrame'>\n",
            "Int64Index: 19997 entries, 2 to 19998\n",
            "Data columns (total 9 columns):\n",
            " #   Column           Non-Null Count  Dtype\n",
            "---  ------           --------------  -----\n",
            " 0   OEM              19997 non-null  int64\n",
            " 1   Model            19997 non-null  int64\n",
            " 2   Original Price   19997 non-null  int64\n",
            " 3   Vehicle Age      19997 non-null  int64\n",
            " 4   IDV              19997 non-null  int64\n",
            " 5   Policy_Accident  19997 non-null  int64\n",
            " 6   Policy_Report    19997 non-null  int64\n",
            " 7   Accident_Report  19997 non-null  int64\n",
            " 8   Prediction       19997 non-null  int64\n",
            "dtypes: int64(9)\n",
            "memory usage: 1.5 MB\n"
          ]
        }
      ]
    },
    {
      "cell_type": "code",
      "source": [
        "X = df9.drop('Prediction',axis=1)\n",
        "Y = df9['Prediction']\n",
        "X_train, X_test, y_train, y_test = train_test_split(X, Y, test_size=0.2)\n",
        "print(\"Size of X Train:- \" + str(X_train.shape))\n",
        "print(\"Size of X Test:- \" + str(X_test.shape))\n",
        "print(\"Size of Y Train:- \" + str(y_train.shape))\n",
        "print(\"Size of Y Test:- \" + str(y_test.shape))\n",
        "reg_rf = RandomForestClassifier(max_depth=180,min_samples_split= 5,n_estimators= 152)\n",
        "reg_rf.fit(X_train, y_train)\n",
        "y_pred_1 = reg_rf.predict(X_test)\n",
        "print(metrics.classification_report(y_test, y_pred_1))"
      ],
      "metadata": {
        "colab": {
          "base_uri": "https://localhost:8080/"
        },
        "id": "Xvy7cDdDGLWA",
        "outputId": "f0ca8e5b-d9f7-478e-97a9-a527df512b57"
      },
      "execution_count": null,
      "outputs": [
        {
          "output_type": "stream",
          "name": "stdout",
          "text": [
            "Size of X Train:- (15997, 8)\n",
            "Size of X Test:- (4000, 8)\n",
            "Size of Y Train:- (15997,)\n",
            "Size of Y Test:- (4000,)\n",
            "              precision    recall  f1-score   support\n",
            "\n",
            "           0       0.85      0.96      0.90      3394\n",
            "           1       0.16      0.04      0.07       606\n",
            "\n",
            "    accuracy                           0.82      4000\n",
            "   macro avg       0.51      0.50      0.48      4000\n",
            "weighted avg       0.75      0.82      0.78      4000\n",
            "\n"
          ]
        }
      ]
    },
    {
      "cell_type": "code",
      "source": [
        "with open('MarketRoll.pkl', 'wb') as f:\n",
        "    pickle.dump(reg_rf, f)"
      ],
      "metadata": {
        "id": "lGqUDtB6SnS8"
      },
      "execution_count": null,
      "outputs": []
    },
    {
      "cell_type": "markdown",
      "source": [
        "# DL Repeat\tPrediction"
      ],
      "metadata": {
        "id": "nyNKn5ZXGbaU"
      }
    },
    {
      "cell_type": "code",
      "source": [
        "import pandas as pd\n",
        "import re\n",
        "\n",
        "df10 = pd.read_csv('/content/Motor Claim Simulation - frauds.xlsx - Sheet1.csv')\n",
        "df10 = df10.drop(['Motor Claims Data ','Unnamed: 1','Unnamed: 2','Unnamed: 14','Unnamed: 15','Unnamed: 16','Unnamed: 18','Unnamed: 19','Unnamed: 20','Unnamed: 21','Unnamed: 22','Unnamed: 17','Unnamed: 24','Unnamed: 25'],axis=1)\n",
        "df10 = df10.rename(columns={'Unnamed: 3': 'OEM', 'Unnamed: 4': 'Model','Unnamed: 5': 'Original Price','Unnamed: 6': \n",
        "                       'Vehicle Age','Unnamed: 7': 'IDV','Unnamed: 8': 'Policy Dt','Unnamed: 9': 'Accident Dt','Unnamed: 10': 'Report Dt',\n",
        "                       'Unnamed: 11': 'Policy_Accident','Unnamed: 12': 'Policy_Report','Unnamed: 13': 'Accident_Report','Unnamed: 23': 'Prediction'})\n",
        "df10 = df10.drop(0)\n",
        "df10 = df10.drop(1)\n",
        "df10.Model = df10.Model.replace({'M1': 1,'M2': 2,'M3': 3,'M4': 4})\n",
        "df10.OEM = df10.OEM.replace({'Hero': 1,'Honda': 2,'TVS': 3})\n",
        "df10['Vehicle Age'] = df10['Vehicle Age'].astype(int)\n",
        "df10['Policy_Accident'] = df10['Policy_Accident'].astype(int)\n",
        "df10['Policy_Report'] = df10['Policy_Report'].astype(int)\n",
        "df10['Accident_Report'] = df10['Accident_Report'].astype(int)\n",
        "df10['Prediction'] = df10['Prediction'].astype(int)\n",
        "df10 = df10.drop(['Policy Dt','Accident Dt','Report Dt'],axis=1)\n",
        "\n",
        "def Converting(str1):\n",
        "    result = re.sub(r\"[^\\d]\", \"\", str1)\n",
        "    return int(result)\n",
        "\n",
        "df10['Original Price'] = df10['Original Price'].apply(lambda x: Converting(x))\n",
        "df10['IDV'] = df10['IDV'].apply(lambda x: Converting(x))\n"
      ],
      "metadata": {
        "id": "Ejk6t_RhGkcv"
      },
      "execution_count": null,
      "outputs": []
    },
    {
      "cell_type": "code",
      "source": [
        "df10.info()"
      ],
      "metadata": {
        "colab": {
          "base_uri": "https://localhost:8080/"
        },
        "id": "kkmfuzbOGeLa",
        "outputId": "5dd36484-caf5-4513-a6cc-f3665a0bccc1"
      },
      "execution_count": null,
      "outputs": [
        {
          "output_type": "stream",
          "name": "stdout",
          "text": [
            "<class 'pandas.core.frame.DataFrame'>\n",
            "Int64Index: 19997 entries, 2 to 19998\n",
            "Data columns (total 9 columns):\n",
            " #   Column           Non-Null Count  Dtype\n",
            "---  ------           --------------  -----\n",
            " 0   OEM              19997 non-null  int64\n",
            " 1   Model            19997 non-null  int64\n",
            " 2   Original Price   19997 non-null  int64\n",
            " 3   Vehicle Age      19997 non-null  int64\n",
            " 4   IDV              19997 non-null  int64\n",
            " 5   Policy_Accident  19997 non-null  int64\n",
            " 6   Policy_Report    19997 non-null  int64\n",
            " 7   Accident_Report  19997 non-null  int64\n",
            " 8   Prediction       19997 non-null  int64\n",
            "dtypes: int64(9)\n",
            "memory usage: 1.5 MB\n"
          ]
        }
      ]
    },
    {
      "cell_type": "code",
      "source": [
        "X = df10.drop('Prediction',axis=1)\n",
        "Y = df10['Prediction']\n",
        "X_train, X_test, y_train, y_test = train_test_split(X, Y, test_size=0.2)\n",
        "print(\"Size of X Train:- \" + str(X_train.shape))\n",
        "print(\"Size of X Test:- \" + str(X_test.shape))\n",
        "print(\"Size of Y Train:- \" + str(y_train.shape))\n",
        "print(\"Size of Y Test:- \" + str(y_test.shape))\n",
        "reg_rf = RandomForestClassifier(max_depth=180,min_samples_split= 5,n_estimators= 152)\n",
        "reg_rf.fit(X_train, y_train)\n",
        "y_pred_1 = reg_rf.predict(X_test)\n",
        "print(metrics.classification_report(y_test, y_pred_1))"
      ],
      "metadata": {
        "colab": {
          "base_uri": "https://localhost:8080/"
        },
        "id": "bhwU5jOFGigg",
        "outputId": "c2cdc4ae-9447-4a94-ed4e-0c3e6d06d7e1"
      },
      "execution_count": null,
      "outputs": [
        {
          "output_type": "stream",
          "name": "stdout",
          "text": [
            "Size of X Train:- (15997, 8)\n",
            "Size of X Test:- (4000, 8)\n",
            "Size of Y Train:- (15997,)\n",
            "Size of Y Test:- (4000,)\n",
            "              precision    recall  f1-score   support\n",
            "\n",
            "           0       0.95      1.00      0.97      3812\n",
            "           1       0.06      0.01      0.01       188\n",
            "\n",
            "    accuracy                           0.95      4000\n",
            "   macro avg       0.51      0.50      0.49      4000\n",
            "weighted avg       0.91      0.95      0.93      4000\n",
            "\n"
          ]
        }
      ]
    },
    {
      "cell_type": "code",
      "source": [
        "with open('DLrepeat.pkl', 'wb') as f:\n",
        "    pickle.dump(reg_rf, f)"
      ],
      "metadata": {
        "id": "Eo--7957TLkQ"
      },
      "execution_count": null,
      "outputs": []
    },
    {
      "cell_type": "markdown",
      "source": [
        "# Inconsistency\tPrediction"
      ],
      "metadata": {
        "id": "oa7unCm2Grcp"
      }
    },
    {
      "cell_type": "code",
      "source": [
        "df11 = pd.read_csv('/content/Motor Claim Simulation - frauds.xlsx - Sheet1.csv')\n",
        "df11.head()"
      ],
      "metadata": {
        "colab": {
          "base_uri": "https://localhost:8080/",
          "height": 351
        },
        "id": "U1nwaJK1G9hs",
        "outputId": "7651e70e-c1e5-452d-f213-a3e7f3ea6577"
      },
      "execution_count": null,
      "outputs": [
        {
          "output_type": "execute_result",
          "data": {
            "text/plain": [
              "   Motor Claims Data  Unnamed: 1 Unnamed: 2 Unnamed: 3 Unnamed: 4  \\\n",
              "0                 NaN        NaN        NaN        NaN        NaN   \n",
              "1                 NaN       Name  RC Number        OEM      Model   \n",
              "2                 NaN    Name-93      RC-93       Hero         M4   \n",
              "3                 NaN    Name-43      RC-43      Honda         M3   \n",
              "4                 NaN    Name-21      RC-21      Honda         M2   \n",
              "\n",
              "       Unnamed: 5   Unnamed: 6 Unnamed: 7 Unnamed: 8   Unnamed: 9  ...  \\\n",
              "0             NaN          NaN        NaN        NaN          NaN  ...   \n",
              "1  Original Price  Vehicle Age        IDV  Policy Dt  Accident Dt  ...   \n",
              "2        100,000             3    61,413   30-Apr-22     1-May-22  ...   \n",
              "3         90,000             1    76,500   11-Jun-22    19-Aug-22  ...   \n",
              "4         72,000             3    44,217    4-Apr-22    22-May-22  ...   \n",
              "\n",
              "   Unnamed: 16    Unnamed: 17     Unnamed: 18  Unnamed: 19    Unnamed: 20  \\\n",
              "0         5.0%           5.0%           10.0%         5.0%           7.5%   \n",
              "1  Fraud Lingo  Inconsistency  Claims History  CIBIL Score  Intermediary    \n",
              "2            0              0               0            0              1   \n",
              "3            0              0               0            0              0   \n",
              "4            0              0               0            0              0   \n",
              "\n",
              "       Unnamed: 21       Unnamed: 22 Unnamed: 23    Unnamed: 24 Unnamed: 25  \n",
              "0            12.5%             10.0%       17.5%           7.5%         NaN  \n",
              "1  Close Proximity  Market Roll Over   DL Repeat  Inconsistency  Risk Score  \n",
              "2                1                 0           0              0         20%  \n",
              "3                0                 0           0              0          0%  \n",
              "4                0                 1           0              0         10%  \n",
              "\n",
              "[5 rows x 26 columns]"
            ],
            "text/html": [
              "\n",
              "  <div id=\"df-5555107a-abda-4f6c-a2dd-c7e6c472663e\">\n",
              "    <div class=\"colab-df-container\">\n",
              "      <div>\n",
              "<style scoped>\n",
              "    .dataframe tbody tr th:only-of-type {\n",
              "        vertical-align: middle;\n",
              "    }\n",
              "\n",
              "    .dataframe tbody tr th {\n",
              "        vertical-align: top;\n",
              "    }\n",
              "\n",
              "    .dataframe thead th {\n",
              "        text-align: right;\n",
              "    }\n",
              "</style>\n",
              "<table border=\"1\" class=\"dataframe\">\n",
              "  <thead>\n",
              "    <tr style=\"text-align: right;\">\n",
              "      <th></th>\n",
              "      <th>Motor Claims Data</th>\n",
              "      <th>Unnamed: 1</th>\n",
              "      <th>Unnamed: 2</th>\n",
              "      <th>Unnamed: 3</th>\n",
              "      <th>Unnamed: 4</th>\n",
              "      <th>Unnamed: 5</th>\n",
              "      <th>Unnamed: 6</th>\n",
              "      <th>Unnamed: 7</th>\n",
              "      <th>Unnamed: 8</th>\n",
              "      <th>Unnamed: 9</th>\n",
              "      <th>...</th>\n",
              "      <th>Unnamed: 16</th>\n",
              "      <th>Unnamed: 17</th>\n",
              "      <th>Unnamed: 18</th>\n",
              "      <th>Unnamed: 19</th>\n",
              "      <th>Unnamed: 20</th>\n",
              "      <th>Unnamed: 21</th>\n",
              "      <th>Unnamed: 22</th>\n",
              "      <th>Unnamed: 23</th>\n",
              "      <th>Unnamed: 24</th>\n",
              "      <th>Unnamed: 25</th>\n",
              "    </tr>\n",
              "  </thead>\n",
              "  <tbody>\n",
              "    <tr>\n",
              "      <th>0</th>\n",
              "      <td>NaN</td>\n",
              "      <td>NaN</td>\n",
              "      <td>NaN</td>\n",
              "      <td>NaN</td>\n",
              "      <td>NaN</td>\n",
              "      <td>NaN</td>\n",
              "      <td>NaN</td>\n",
              "      <td>NaN</td>\n",
              "      <td>NaN</td>\n",
              "      <td>NaN</td>\n",
              "      <td>...</td>\n",
              "      <td>5.0%</td>\n",
              "      <td>5.0%</td>\n",
              "      <td>10.0%</td>\n",
              "      <td>5.0%</td>\n",
              "      <td>7.5%</td>\n",
              "      <td>12.5%</td>\n",
              "      <td>10.0%</td>\n",
              "      <td>17.5%</td>\n",
              "      <td>7.5%</td>\n",
              "      <td>NaN</td>\n",
              "    </tr>\n",
              "    <tr>\n",
              "      <th>1</th>\n",
              "      <td>NaN</td>\n",
              "      <td>Name</td>\n",
              "      <td>RC Number</td>\n",
              "      <td>OEM</td>\n",
              "      <td>Model</td>\n",
              "      <td>Original Price</td>\n",
              "      <td>Vehicle Age</td>\n",
              "      <td>IDV</td>\n",
              "      <td>Policy Dt</td>\n",
              "      <td>Accident Dt</td>\n",
              "      <td>...</td>\n",
              "      <td>Fraud Lingo</td>\n",
              "      <td>Inconsistency</td>\n",
              "      <td>Claims History</td>\n",
              "      <td>CIBIL Score</td>\n",
              "      <td>Intermediary</td>\n",
              "      <td>Close Proximity</td>\n",
              "      <td>Market Roll Over</td>\n",
              "      <td>DL Repeat</td>\n",
              "      <td>Inconsistency</td>\n",
              "      <td>Risk Score</td>\n",
              "    </tr>\n",
              "    <tr>\n",
              "      <th>2</th>\n",
              "      <td>NaN</td>\n",
              "      <td>Name-93</td>\n",
              "      <td>RC-93</td>\n",
              "      <td>Hero</td>\n",
              "      <td>M4</td>\n",
              "      <td>100,000</td>\n",
              "      <td>3</td>\n",
              "      <td>61,413</td>\n",
              "      <td>30-Apr-22</td>\n",
              "      <td>1-May-22</td>\n",
              "      <td>...</td>\n",
              "      <td>0</td>\n",
              "      <td>0</td>\n",
              "      <td>0</td>\n",
              "      <td>0</td>\n",
              "      <td>1</td>\n",
              "      <td>1</td>\n",
              "      <td>0</td>\n",
              "      <td>0</td>\n",
              "      <td>0</td>\n",
              "      <td>20%</td>\n",
              "    </tr>\n",
              "    <tr>\n",
              "      <th>3</th>\n",
              "      <td>NaN</td>\n",
              "      <td>Name-43</td>\n",
              "      <td>RC-43</td>\n",
              "      <td>Honda</td>\n",
              "      <td>M3</td>\n",
              "      <td>90,000</td>\n",
              "      <td>1</td>\n",
              "      <td>76,500</td>\n",
              "      <td>11-Jun-22</td>\n",
              "      <td>19-Aug-22</td>\n",
              "      <td>...</td>\n",
              "      <td>0</td>\n",
              "      <td>0</td>\n",
              "      <td>0</td>\n",
              "      <td>0</td>\n",
              "      <td>0</td>\n",
              "      <td>0</td>\n",
              "      <td>0</td>\n",
              "      <td>0</td>\n",
              "      <td>0</td>\n",
              "      <td>0%</td>\n",
              "    </tr>\n",
              "    <tr>\n",
              "      <th>4</th>\n",
              "      <td>NaN</td>\n",
              "      <td>Name-21</td>\n",
              "      <td>RC-21</td>\n",
              "      <td>Honda</td>\n",
              "      <td>M2</td>\n",
              "      <td>72,000</td>\n",
              "      <td>3</td>\n",
              "      <td>44,217</td>\n",
              "      <td>4-Apr-22</td>\n",
              "      <td>22-May-22</td>\n",
              "      <td>...</td>\n",
              "      <td>0</td>\n",
              "      <td>0</td>\n",
              "      <td>0</td>\n",
              "      <td>0</td>\n",
              "      <td>0</td>\n",
              "      <td>0</td>\n",
              "      <td>1</td>\n",
              "      <td>0</td>\n",
              "      <td>0</td>\n",
              "      <td>10%</td>\n",
              "    </tr>\n",
              "  </tbody>\n",
              "</table>\n",
              "<p>5 rows × 26 columns</p>\n",
              "</div>\n",
              "      <button class=\"colab-df-convert\" onclick=\"convertToInteractive('df-5555107a-abda-4f6c-a2dd-c7e6c472663e')\"\n",
              "              title=\"Convert this dataframe to an interactive table.\"\n",
              "              style=\"display:none;\">\n",
              "        \n",
              "  <svg xmlns=\"http://www.w3.org/2000/svg\" height=\"24px\"viewBox=\"0 0 24 24\"\n",
              "       width=\"24px\">\n",
              "    <path d=\"M0 0h24v24H0V0z\" fill=\"none\"/>\n",
              "    <path d=\"M18.56 5.44l.94 2.06.94-2.06 2.06-.94-2.06-.94-.94-2.06-.94 2.06-2.06.94zm-11 1L8.5 8.5l.94-2.06 2.06-.94-2.06-.94L8.5 2.5l-.94 2.06-2.06.94zm10 10l.94 2.06.94-2.06 2.06-.94-2.06-.94-.94-2.06-.94 2.06-2.06.94z\"/><path d=\"M17.41 7.96l-1.37-1.37c-.4-.4-.92-.59-1.43-.59-.52 0-1.04.2-1.43.59L10.3 9.45l-7.72 7.72c-.78.78-.78 2.05 0 2.83L4 21.41c.39.39.9.59 1.41.59.51 0 1.02-.2 1.41-.59l7.78-7.78 2.81-2.81c.8-.78.8-2.07 0-2.86zM5.41 20L4 18.59l7.72-7.72 1.47 1.35L5.41 20z\"/>\n",
              "  </svg>\n",
              "      </button>\n",
              "      \n",
              "  <style>\n",
              "    .colab-df-container {\n",
              "      display:flex;\n",
              "      flex-wrap:wrap;\n",
              "      gap: 12px;\n",
              "    }\n",
              "\n",
              "    .colab-df-convert {\n",
              "      background-color: #E8F0FE;\n",
              "      border: none;\n",
              "      border-radius: 50%;\n",
              "      cursor: pointer;\n",
              "      display: none;\n",
              "      fill: #1967D2;\n",
              "      height: 32px;\n",
              "      padding: 0 0 0 0;\n",
              "      width: 32px;\n",
              "    }\n",
              "\n",
              "    .colab-df-convert:hover {\n",
              "      background-color: #E2EBFA;\n",
              "      box-shadow: 0px 1px 2px rgba(60, 64, 67, 0.3), 0px 1px 3px 1px rgba(60, 64, 67, 0.15);\n",
              "      fill: #174EA6;\n",
              "    }\n",
              "\n",
              "    [theme=dark] .colab-df-convert {\n",
              "      background-color: #3B4455;\n",
              "      fill: #D2E3FC;\n",
              "    }\n",
              "\n",
              "    [theme=dark] .colab-df-convert:hover {\n",
              "      background-color: #434B5C;\n",
              "      box-shadow: 0px 1px 3px 1px rgba(0, 0, 0, 0.15);\n",
              "      filter: drop-shadow(0px 1px 2px rgba(0, 0, 0, 0.3));\n",
              "      fill: #FFFFFF;\n",
              "    }\n",
              "  </style>\n",
              "\n",
              "      <script>\n",
              "        const buttonEl =\n",
              "          document.querySelector('#df-5555107a-abda-4f6c-a2dd-c7e6c472663e button.colab-df-convert');\n",
              "        buttonEl.style.display =\n",
              "          google.colab.kernel.accessAllowed ? 'block' : 'none';\n",
              "\n",
              "        async function convertToInteractive(key) {\n",
              "          const element = document.querySelector('#df-5555107a-abda-4f6c-a2dd-c7e6c472663e');\n",
              "          const dataTable =\n",
              "            await google.colab.kernel.invokeFunction('convertToInteractive',\n",
              "                                                     [key], {});\n",
              "          if (!dataTable) return;\n",
              "\n",
              "          const docLinkHtml = 'Like what you see? Visit the ' +\n",
              "            '<a target=\"_blank\" href=https://colab.research.google.com/notebooks/data_table.ipynb>data table notebook</a>'\n",
              "            + ' to learn more about interactive tables.';\n",
              "          element.innerHTML = '';\n",
              "          dataTable['output_type'] = 'display_data';\n",
              "          await google.colab.output.renderOutput(dataTable, element);\n",
              "          const docLink = document.createElement('div');\n",
              "          docLink.innerHTML = docLinkHtml;\n",
              "          element.appendChild(docLink);\n",
              "        }\n",
              "      </script>\n",
              "    </div>\n",
              "  </div>\n",
              "  "
            ]
          },
          "metadata": {},
          "execution_count": 209
        }
      ]
    },
    {
      "cell_type": "code",
      "source": [
        "import pandas as pd\n",
        "import re\n",
        "\n",
        "df11 = pd.read_csv('/content/Motor Claim Simulation - frauds.xlsx - Sheet1.csv')\n",
        "df11 = df11.drop(['Motor Claims Data ','Unnamed: 1','Unnamed: 2','Unnamed: 14','Unnamed: 15','Unnamed: 16','Unnamed: 18','Unnamed: 19','Unnamed: 20','Unnamed: 21','Unnamed: 22','Unnamed: 23','Unnamed: 17','Unnamed: 25'],axis=1)\n",
        "df11 = df11.rename(columns={'Unnamed: 3': 'OEM', 'Unnamed: 4': 'Model','Unnamed: 5': 'Original Price','Unnamed: 6': \n",
        "                       'Vehicle Age','Unnamed: 7': 'IDV','Unnamed: 8': 'Policy Dt','Unnamed: 9': 'Accident Dt','Unnamed: 10': 'Report Dt',\n",
        "                       'Unnamed: 11': 'Policy_Accident','Unnamed: 12': 'Policy_Report','Unnamed: 13': 'Accident_Report','Unnamed: 24': 'Prediction'})\n",
        "df11 = df11.drop(0)\n",
        "df11 = df11.drop(1)\n",
        "df11.Model = df11.Model.replace({'M1': 1,'M2': 2,'M3': 3,'M4': 4})\n",
        "df11.OEM = df11.OEM.replace({'Hero': 1,'Honda': 2,'TVS': 3})\n",
        "df11['Vehicle Age'] = df11['Vehicle Age'].astype(int)\n",
        "df11['Policy_Accident'] = df11['Policy_Accident'].astype(int)\n",
        "df11['Policy_Report'] = df11['Policy_Report'].astype(int)\n",
        "df11['Accident_Report'] = df11['Accident_Report'].astype(int)\n",
        "df11['Prediction'] = df11['Prediction'].astype(int)\n",
        "df11 = df11.drop(['Policy Dt','Accident Dt','Report Dt'],axis=1)\n",
        "\n",
        "def Converting(str1):\n",
        "    result = re.sub(r\"[^\\d]\", \"\", str1)\n",
        "    return int(result)\n",
        "\n",
        "df11['Original Price'] = df11['Original Price'].apply(lambda x: Converting(x))\n",
        "df11['IDV'] = df11['IDV'].apply(lambda x: Converting(x))\n"
      ],
      "metadata": {
        "id": "qE7ymZcGG1SE"
      },
      "execution_count": null,
      "outputs": []
    },
    {
      "cell_type": "code",
      "source": [
        "df11.info()"
      ],
      "metadata": {
        "colab": {
          "base_uri": "https://localhost:8080/"
        },
        "id": "mPHgYFeGGwBX",
        "outputId": "ce01ba6d-c2da-4653-f25c-adf281be0b46"
      },
      "execution_count": null,
      "outputs": [
        {
          "output_type": "stream",
          "name": "stdout",
          "text": [
            "<class 'pandas.core.frame.DataFrame'>\n",
            "Int64Index: 19997 entries, 2 to 19998\n",
            "Data columns (total 9 columns):\n",
            " #   Column           Non-Null Count  Dtype\n",
            "---  ------           --------------  -----\n",
            " 0   OEM              19997 non-null  int64\n",
            " 1   Model            19997 non-null  int64\n",
            " 2   Original Price   19997 non-null  int64\n",
            " 3   Vehicle Age      19997 non-null  int64\n",
            " 4   IDV              19997 non-null  int64\n",
            " 5   Policy_Accident  19997 non-null  int64\n",
            " 6   Policy_Report    19997 non-null  int64\n",
            " 7   Accident_Report  19997 non-null  int64\n",
            " 8   Prediction       19997 non-null  int64\n",
            "dtypes: int64(9)\n",
            "memory usage: 1.5 MB\n"
          ]
        }
      ]
    },
    {
      "cell_type": "code",
      "source": [
        "X = df11.drop('Prediction',axis=1)\n",
        "Y = df11['Prediction']\n",
        "X_train, X_test, y_train, y_test = train_test_split(X, Y, test_size=0.2)\n",
        "print(\"Size of X Train:- \" + str(X_train.shape))\n",
        "print(\"Size of X Test:- \" + str(X_test.shape))\n",
        "print(\"Size of Y Train:- \" + str(y_train.shape))\n",
        "print(\"Size of Y Test:- \" + str(y_test.shape))\n",
        "reg_rf = RandomForestClassifier(max_depth=180,min_samples_split= 5,n_estimators= 152)\n",
        "reg_rf.fit(X_train, y_train)\n",
        "y_pred_1 = reg_rf.predict(X_test)\n",
        "print(metrics.classification_report(y_test, y_pred_1))"
      ],
      "metadata": {
        "colab": {
          "base_uri": "https://localhost:8080/"
        },
        "id": "uerxxpsIG0HU",
        "outputId": "1b110090-021d-4f3c-bec1-c8ac146d1a07"
      },
      "execution_count": null,
      "outputs": [
        {
          "output_type": "stream",
          "name": "stdout",
          "text": [
            "Size of X Train:- (15997, 8)\n",
            "Size of X Test:- (4000, 8)\n",
            "Size of Y Train:- (15997,)\n",
            "Size of Y Test:- (4000,)\n",
            "              precision    recall  f1-score   support\n",
            "\n",
            "           0       0.94      1.00      0.97      3774\n",
            "           1       0.08      0.00      0.01       226\n",
            "\n",
            "    accuracy                           0.94      4000\n",
            "   macro avg       0.51      0.50      0.49      4000\n",
            "weighted avg       0.89      0.94      0.92      4000\n",
            "\n"
          ]
        }
      ]
    },
    {
      "cell_type": "code",
      "source": [],
      "metadata": {
        "id": "jqM0NR9uSrsd"
      },
      "execution_count": null,
      "outputs": []
    },
    {
      "cell_type": "code",
      "source": [
        "with open('Incosistency.pkl', 'wb') as f:\n",
        "    pickle.dump(reg_rf, f)"
      ],
      "metadata": {
        "id": "dngxhMB_Srw0"
      },
      "execution_count": null,
      "outputs": []
    },
    {
      "cell_type": "code",
      "source": [
        "sns.heatmap(df.corr(), annot=True, cmap='coolwarm', center=0)"
      ],
      "metadata": {
        "colab": {
          "base_uri": "https://localhost:8080/",
          "height": 287
        },
        "id": "7xEAuEmDOmBK",
        "outputId": "3b8ef50d-64ef-4d37-ff05-02a9903846f5"
      },
      "execution_count": null,
      "outputs": [
        {
          "output_type": "execute_result",
          "data": {
            "text/plain": [
              "<AxesSubplot:>"
            ]
          },
          "metadata": {},
          "execution_count": 155
        },
        {
          "output_type": "display_data",
          "data": {
            "text/plain": [
              "<Figure size 432x288 with 2 Axes>"
            ],
            "image/png": "[encoded data removed]"
          },
          "metadata": {}
        }
      ]
    },
    {
      "cell_type": "code",
      "source": [
        "import seaborn as sns\n",
        "import matplotlib.pyplot as plt\n",
        "\n",
        "# plot the feature importance values using Seaborn\n",
        "sns.set_style('darkgrid')\n",
        "sns.barplot(x='importance', y='feature', data=feature_importances)\n",
        "\n",
        "\n",
        "# add chart title and axis labels\n",
        "plt.title('Feature Importances')\n",
        "plt.xlabel('Importance')\n",
        "plt.ylabel('Feature')\n",
        "\n",
        "# show the plot\n",
        "plt.show()"
      ],
      "metadata": {
        "colab": {
          "base_uri": "https://localhost:8080/",
          "height": 295
        },
        "id": "y_mwrHPVNYay",
        "outputId": "435fdd67-2155-4472-d11f-fca1c915f9e0"
      },
      "execution_count": null,
      "outputs": [
        {
          "output_type": "display_data",
          "data": {
            "text/plain": [
              "<Figure size 432x288 with 1 Axes>"
            ],
            "image/png": "[encoded data removed]"
          },
          "metadata": {}
        }
      ]
    },
    {
      "cell_type": "code",
      "source": [],
      "metadata": {
        "id": "ywWVuTzGNcOT"
      },
      "execution_count": null,
      "outputs": []
    },
    {
      "cell_type": "code",
      "source": [
        "with open('DLRoll.pkl', 'wb') as f:\n",
        "    pickle.dump(reg_rf, f)"
      ],
      "metadata": {
        "id": "JzOXf_m3TDWN"
      },
      "execution_count": null,
      "outputs": []
    }
  ]
}